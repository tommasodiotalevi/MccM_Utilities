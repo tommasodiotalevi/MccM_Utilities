{
 "cells": [
  {
   "cell_type": "code",
   "execution_count": 1,
   "metadata": {},
   "outputs": [],
   "source": [
    "import pandas as pd\n",
    "import numpy as np\n",
    "import requests\n",
    "import re\n",
    "import csv"
   ]
  },
  {
   "cell_type": "code",
   "execution_count": 2,
   "metadata": {},
   "outputs": [],
   "source": [
    "POWHEG_NRes = { 'cHHH1'   :'/cvmfs/cms.cern.ch/phys_generator/gridpacks/slc6_amd64_gcc700/13TeV/powheg/V2/ggHH_EWChL_NNPDF31_13TeV_M125_cHHH1/v3/ggHH_EWChL_slc6_amd64_gcc700_CMSSW_10_2_5_patch1_my_ggHH_EWChL.tgz',\n",
    "                'cHHH0'   :'/cvmfs/cms.cern.ch/phys_generator/gridpacks/slc6_amd64_gcc700/13TeV/powheg/V2/ggHH_EWChL_NNPDF31_13TeV_M125_cHHH0/v3/ggHH_EWChL_cHHH0_slc6_amd64_gcc700_CMSSW_10_2_5_patch1_my_ggHH_EWChL.tgz',\n",
    "                'cHHH5'   :'/cvmfs/cms.cern.ch/phys_generator/gridpacks/slc6_amd64_gcc700/13TeV/powheg/V2/ggHH_EWChL_NNPDF31_13TeV_M125_cHHH5/v3/ggHH_EWChL_cHHH5_slc6_amd64_gcc700_CMSSW_10_2_5_patch1_my_ggHH_EWChL.tgz',\n",
    "                'cHHH2p45':'/cvmfs/cms.cern.ch/phys_generator/gridpacks/slc6_amd64_gcc700/13TeV/powheg/V2/ggHH_EWChL_NNPDF31_13TeV_M125_cHHH2p45/v4/ggHH_EWChL_cHHH2p45_slc6_amd64_gcc700_CMSSW_10_2_5_patch1_my_ggHH_EWChL.tgz'}"
   ]
  },
  {
   "cell_type": "code",
   "execution_count": 3,
   "metadata": {},
   "outputs": [],
   "source": [
    "process_gridpacks_map = {\n",
    "'GluGluToHHToPROCESS_node_VALUE_UETUNE_PSWeights_13TeV-powheg-pythia8' : POWHEG_NRes,\n",
    "}\n",
    "\n",
    "LHEproducer = \"\"\"import FWCore.ParameterSet.Config as cms\n",
    "\n",
    "externalLHEProducer = cms.EDProducer(\"ExternalLHEProducer\",\n",
    "    args = cms.vstring('__GRIDPACK__'),\n",
    "    nEvents = cms.untracked.uint32(5000),\n",
    "    numberOfParameters = cms.uint32(1),\n",
    "    outputFile = cms.string('cmsgrid_final.lhe'),\n",
    "    scriptName = cms.FileInPath('GeneratorInterface/LHEInterface/data/run_generic_tarball_cvmfs.sh')\n",
    ")\n",
    "\n",
    "#Link to datacards:\n",
    "#https://github.com/cms-sw/genproductions/tree/master/bin/MadGraph5_aMCatNLO/cards/production/2017/13TeV/exo_diboson/\n",
    "\"\"\"\n",
    "\n",
    "num_events = {\n",
    "    '4B'         : 1000000,\n",
    "    '2B2Tau'     : 1000000,\n",
    "    '2B2VTo2L2Nu':  400000,\n",
    "    '2B2G'       :  200000,\n",
    "    '4Tau'       : 1000000,\n",
    "    '2B2ZTo2L2J' :  400000,\n",
    "    '2B2ZTo4L'   :  400000,\n",
    "    '4V'         : 1000000,\n",
    "    '2B2VLNu2J'  :  400000,\n",
    "    '2V2Tau'     :  400000,\n",
    "    '2Tau2ZTo4L' :  400000,\n",
    "    '2G2ZTo4L'   :  200000,\n",
    "    '2W2ZTo4L'   : 1000000\n",
    "}"
   ]
  },
  {
   "cell_type": "code",
   "execution_count": 4,
   "metadata": {},
   "outputs": [],
   "source": [
    "import fragments"
   ]
  },
  {
   "cell_type": "code",
   "execution_count": 5,
   "metadata": {},
   "outputs": [],
   "source": [
    "Tune_pre2017 = 'TuneCUETP8M1'\n",
    "Tune_2017    = 'TuneCP5'\n",
    "\n",
    "years = ['2016', '2017', '2018']\n",
    "\n",
    "final_states = ['4V', '2V2Tau']\n",
    "\n",
    "for year in years:\n",
    "\n",
    "    with open('HH_NonRes_Powheg'+year+'_' + final_states + '.csv', 'w') as csvfile:\n",
    "        csvwriter = csv.writer(csvfile, delimiter=',',\n",
    "                                quotechar='\"', quoting=csv.QUOTE_MINIMAL)\n",
    "        csvwriter.writerow(['Dataset name','Events', 'fragment','notes','Generator'])\n",
    "    \n",
    "        for channel, nevents in num_events.items():\n",
    "            if not final_states.count(channel):\n",
    "                continue\n",
    "            fragment_dict = fragments.HHchannel_dict[channel]\n",
    "               \n",
    "            for key, value in process_gridpacks_map.items():\n",
    "\n",
    "                for value, path in value.items():\n",
    "                    #print('\\t %s - %s' %(key.replace('VALUE',value),path))\n",
    "                    dataset_name = key.replace('PROCESS',channel).replace('VALUE',value).replace('UETUNE', Tune_pre2017 if year == '2016' else Tune_2017)\n",
    "                    events=nevents\n",
    "                    final_fragment = LHEproducer.replace('__GRIDPACK__',path) + '\\n' + fragment_dict[year]\n",
    "                    note = dataset_name.replace('_',' ')\n",
    "                    generators=\"Powheg Pythia8\"\n",
    "                    csvwriter.writerow([dataset_name, events, final_fragment, note, generators])"
   ]
  }
 ],
 "metadata": {
  "kernelspec": {
   "display_name": "Python 3",
   "language": "python",
   "name": "python3"
  },
  "language_info": {
   "codemirror_mode": {
    "name": "ipython",
    "version": 3
   },
   "file_extension": ".py",
   "mimetype": "text/x-python",
   "name": "python",
   "nbconvert_exporter": "python",
   "pygments_lexer": "ipython3",
   "version": "3.7.4"
  }
 },
 "nbformat": 4,
 "nbformat_minor": 2
}
