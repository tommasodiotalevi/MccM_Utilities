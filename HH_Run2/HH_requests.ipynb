{
 "cells": [
  {
   "cell_type": "code",
   "execution_count": null,
   "metadata": {},
   "outputs": [],
   "source": [
    "import pandas as pd\n",
    "import numpy as np\n",
    "import requests\n",
    "import csv"
   ]
  },
  {
   "cell_type": "code",
   "execution_count": 11,
   "metadata": {},
   "outputs": [],
   "source": [
    "BG_HH_masses_missing = [250,280,320,700,850,900,1000,1250,1500,1750,2000,2500,3000]\n",
    "\n",
    "BG_BTV_masses_missing = [290, 1200, 1400, 1600, 1800, 3500, 4000, 4500]\n",
    "\n",
    "pythia_url = \"https://github.com/cms-sw/genproductions/blob/master/python/ThirteenTeV/Higgs/HH/ResonanceDecayFilter_example_HHTo4B_madgraph_pythia8_CP5_cff.py\"\n",
    "pythia_RAW_url = pythia_url.replace('github.com','raw.githubusercontent.com').replace('/blob','')\n",
    "r = requests.get(pythia_RAW_url)\n",
    "fragment = r.text\n",
    "\n",
    "index = fragment.find('from Configuration.Generator.Pythia8CommonSettings_cfi')\n",
    "HH_4B_fragment = fragment[index:]\n",
    "\n",
    "LHEproducer = \"\"\"import FWCore.ParameterSet.Config as cms\n",
    "\n",
    "externalLHEProducer = cms.EDProducer(\"ExternalLHEProducer\",\n",
    "    args = cms.vstring('__GRIDPACK__'),\n",
    "    nEvents = cms.untracked.uint32(5000),\n",
    "    numberOfParameters = cms.uint32(1),\n",
    "    outputFile = cms.string('cmsgrid_final.lhe'),\n",
    "    scriptName = cms.FileInPath('GeneratorInterface/LHEInterface/data/run_generic_tarball_cvmfs.sh')\n",
    ")\n",
    "\n",
    "#Link to datacards:\n",
    "#https://github.com/cms-sw/genproductions/tree/master/bin/MadGraph5_aMCatNLO/cards/production/2017/13TeV/exo_diboson/Spin-2/BulkGraviton_hh_narrow\n",
    "\"\"\""
   ]
  },
  {
   "cell_type": "code",
   "execution_count": null,
   "metadata": {},
   "outputs": [],
   "source": [
    "main_df = pd.read_csv('BG_HH_4B.csv')\n",
    "main_df[11]"
   ]
  },
  {
   "cell_type": "code",
   "execution_count": 17,
   "metadata": {},
   "outputs": [
    {
     "name": "stdout",
     "output_type": "stream",
     "text": [
      "GluGlu BulkGraviton production m_BG = 250 GeV decaying into HH (m_H = 125 GeV) in the 4b final state\n",
      "GluGlu BulkGraviton production m_BG = 280 GeV decaying into HH (m_H = 125 GeV) in the 4b final state\n",
      "GluGlu BulkGraviton production m_BG = 290 GeV decaying into HH (m_H = 125 GeV) in the 4b final state\n",
      "GluGlu BulkGraviton production m_BG = 320 GeV decaying into HH (m_H = 125 GeV) in the 4b final state\n",
      "GluGlu BulkGraviton production m_BG = 700 GeV decaying into HH (m_H = 125 GeV) in the 4b final state\n",
      "GluGlu BulkGraviton production m_BG = 850 GeV decaying into HH (m_H = 125 GeV) in the 4b final state\n",
      "GluGlu BulkGraviton production m_BG = 900 GeV decaying into HH (m_H = 125 GeV) in the 4b final state\n",
      "GluGlu BulkGraviton production m_BG = 1000 GeV decaying into HH (m_H = 125 GeV) in the 4b final state\n",
      "GluGlu BulkGraviton production m_BG = 1200 GeV decaying into HH (m_H = 125 GeV) in the 4b final state\n",
      "GluGlu BulkGraviton production m_BG = 1250 GeV decaying into HH (m_H = 125 GeV) in the 4b final state\n",
      "GluGlu BulkGraviton production m_BG = 1400 GeV decaying into HH (m_H = 125 GeV) in the 4b final state\n",
      "GluGlu BulkGraviton production m_BG = 1500 GeV decaying into HH (m_H = 125 GeV) in the 4b final state\n",
      "GluGlu BulkGraviton production m_BG = 1600 GeV decaying into HH (m_H = 125 GeV) in the 4b final state\n",
      "GluGlu BulkGraviton production m_BG = 1750 GeV decaying into HH (m_H = 125 GeV) in the 4b final state\n",
      "GluGlu BulkGraviton production m_BG = 1800 GeV decaying into HH (m_H = 125 GeV) in the 4b final state\n",
      "GluGlu BulkGraviton production m_BG = 2000 GeV decaying into HH (m_H = 125 GeV) in the 4b final state\n",
      "GluGlu BulkGraviton production m_BG = 2500 GeV decaying into HH (m_H = 125 GeV) in the 4b final state\n",
      "GluGlu BulkGraviton production m_BG = 3000 GeV decaying into HH (m_H = 125 GeV) in the 4b final state\n",
      "GluGlu BulkGraviton production m_BG = 3500 GeV decaying into HH (m_H = 125 GeV) in the 4b final state\n",
      "GluGlu BulkGraviton production m_BG = 4000 GeV decaying into HH (m_H = 125 GeV) in the 4b final state\n",
      "GluGlu BulkGraviton production m_BG = 4500 GeV decaying into HH (m_H = 125 GeV) in the 4b final state\n"
     ]
    }
   ],
   "source": [
    "with open('BulkGraviton_HH_4B.csv', 'w') as csvfile:\n",
    "    csvwriter = csv.writer(csvfile, delimiter=',',\n",
    "                            quotechar='\"', quoting=csv.QUOTE_MINIMAL)\n",
    "    csvwriter.writerow(['Dataset name','Events', 'fragment','notes','Generator'])\n",
    "    \n",
    "    for index, row in main_df.iterrows():\n",
    "        mass = row[0]\n",
    "        events = row[1]\n",
    "        generators = row[2].replace(' ','_').replace('+',' ')\n",
    "        gridpack_path = row[3]\n",
    "        if (mass in BG_HH_masses_missing) or (mass in BG_BTV_masses_missing):\n",
    "            dataset_name = \"GluGluToBulkGravitonToHHTo4B_M-{0}_narrow_13TeV-madgraph_correctedcfg\".format(mass)\n",
    "            final_fragment = LHEproducer.replace('__GRIDPACK__',gridpack_path) + '\\n\\n' + HH_4B_fragment\n",
    "            note = \"GluGlu BulkGraviton production m_BG = {0} GeV decaying into HH (m_H = 125 GeV) in the 4b final state\".format(mass)\n",
    "            csvwriter.writerow([dataset_name, events, final_fragment, note, generators])\n",
    "        "
   ]
  },
  {
   "cell_type": "code",
   "execution_count": null,
   "metadata": {},
   "outputs": [],
   "source": []
  }
 ],
 "metadata": {
  "kernelspec": {
   "display_name": "Python 3",
   "language": "python",
   "name": "python3"
  },
  "language_info": {
   "codemirror_mode": {
    "name": "ipython",
    "version": 3
   },
   "file_extension": ".py",
   "mimetype": "text/x-python",
   "name": "python",
   "nbconvert_exporter": "python",
   "pygments_lexer": "ipython3",
   "version": "3.7.4"
  }
 },
 "nbformat": 4,
 "nbformat_minor": 2
}
