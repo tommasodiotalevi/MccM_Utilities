{
 "cells": [
  {
   "cell_type": "code",
   "execution_count": 1,
   "metadata": {},
   "outputs": [],
   "source": [
    "import pandas as pd\n",
    "import numpy as np\n",
    "import requests\n",
    "import re\n",
    "import csv"
   ]
  },
  {
   "cell_type": "markdown",
   "metadata": {},
   "source": [
    "### VBF HH production"
   ]
  },
  {
   "cell_type": "markdown",
   "metadata": {},
   "source": [
    "#### Pythia8 fragments for HHTo2B2ZTo2L2J\n",
    "_PSWeights_ added!"
   ]
  },
  {
   "cell_type": "code",
   "execution_count": 2,
   "metadata": {},
   "outputs": [],
   "source": [
    "pythia_fragment_run2_CUEP8M1 = \"\"\"from Configuration.Generator.Pythia8CommonSettings_cfi import *                                                                                                                                             \n",
    "from Configuration.Generator.Pythia8CUEP8M1Settings_cfi import *                                                                                                                                            \n",
    "from Configuration.Generator.PSweightsPythia.PythiaPSweightsSettings_cfi import *                                                                                                                           \n",
    "                                                                                                                                                                                                            \n",
    "generator = cms.EDFilter(\"Pythia8HadronizerFilter\",                                                                                                                                                         \n",
    "                         maxEventsToPrint = cms.untracked.int32(1),                                                                                                                                         \n",
    "                         pythiaPylistVerbosity = cms.untracked.int32(1),                                                                                                                                    \n",
    "                         filterEfficiency = cms.untracked.double(1.0),                                                                                                                                      \n",
    "                         pythiaHepMCVerbosity = cms.untracked.bool(False),                                                                                                                                  \n",
    "                         comEnergy = cms.double(13000.),                                                                                                                                                    \n",
    "                         PythiaParameters = cms.PSet(                                                                                                                                                       \n",
    "        pythia8CommonSettingsBlock,                                                                                                                                                                         \n",
    "        pythia8CUEP8M1SettingsBlock,                                                                                                                                                                        \n",
    "        pythia8PSweightsSettingsBlock,                                                                                                                                                                      \n",
    "        processParameters = cms.vstring(                                                                                                                                                                    \n",
    "             __CHANNEL_DECAY_FRAGMENT__                                                                                                                                                                     \n",
    "          ),                                                                                                                                                                                                \n",
    "        parameterSets = cms.vstring('pythia8CommonSettings',                                                                                                                                                \n",
    "                                    'pythia8CUEP8M1Settings',                                                                                                                                               \n",
    "                                    'pythia8PSweightsSettings',                                                                                                                                             \n",
    "                                    'processParameters'                                                                                                                                                     \n",
    "                                    )                                                                                                                                                                       \n",
    "        )                                                                                                                                                                                                   \n",
    "                         )                                                                                                                                                                                  \n",
    "                                                                                                                                                                                                            \n",
    "                                                                                                                                                                                                            \n",
    "ProductionFilterSequence = cms.Sequence(generator)\"\"\"\n",
    "\n",
    "pythia_fragment_run2_CP5 = \"\"\"import FWCore.ParameterSet.Config as cms                                                                                                                                      \n",
    "from Configuration.Generator.Pythia8CommonSettings_cfi import *                                                                                                                                             \n",
    "from Configuration.Generator.MCTunes2017.PythiaCP5Settings_cfi import *                                                                                                                                     \n",
    "from Configuration.Generator.PSweightsPythia.PythiaPSweightsSettings_cfi import *                                                                                                                           \n",
    "                                                                                                                                                                                                            \n",
    "generator = cms.EDFilter(\"Pythia8HadronizerFilter\",                                                                                                                                                         \n",
    "                         maxEventsToPrint = cms.untracked.int32(1),                                                                                                                                         \n",
    "                         pythiaPylistVerbosity = cms.untracked.int32(1),                                                                                                                                    \n",
    "                         filterEfficiency = cms.untracked.double(1.0),                                                                                                                                      \n",
    "                         pythiaHepMCVerbosity = cms.untracked.bool(False),                                                                                                                                  \n",
    "                         comEnergy = cms.double(13000.),                                                                                                                                                    \n",
    "                         PythiaParameters = cms.PSet(                                                                                                                                                       \n",
    "        pythia8CommonSettingsBlock,                                                                                                                                                                         \n",
    "        pythia8CP5SettingsBlock,                                                                                                                                                                            \n",
    "        pythia8PSweightsSettingsBlock,                                                                                                                                                                      \n",
    "        processParameters = cms.vstring(                                                                                                                                                                    \n",
    "            __CHANNEL_DECAY_FRAGMENT__                                                                                                                                                                      \n",
    "          ),                                                                                                                                                                                                \n",
    "        parameterSets = cms.vstring('pythia8CommonSettings',                                                                                                                                                \n",
    "                                    'pythia8CP5Settings',                                                                                                                                                   \n",
    "                                    'pythia8PSweightsSettings',                                                                                                                                             \n",
    "                                    'processParameters'                                                                                                                                                     \n",
    "                                    )                                                                                                                                                                       \n",
    "        )                                                                                                                                                                                                   \n",
    "                         )                                                                                                                                                                                  \n",
    "                                                                                                                                                                                                            \n",
    "ProductionFilterSequence = cms.Sequence(generator)                                                                                                                                                          \n",
    "\"\"\""
   ]
  },
  {
   "cell_type": "code",
   "execution_count": 3,
   "metadata": {},
   "outputs": [],
   "source": [
    "def fragmentsDictCreator (decay_fr):\n",
    "    dict = { '2016': pythia_fragment_run2_CUEP8M1.replace('__CHANNEL_DECAY_FRAGMENT__',decay_fr),\n",
    "             '2017': pythia_fragment_run2_CP5.replace('__CHANNEL_DECAY_FRAGMENT__',decay_fr),\n",
    "             '2018': pythia_fragment_run2_CP5.replace('__CHANNEL_DECAY_FRAGMENT__',decay_fr)\n",
    "                    }\n",
    "    return dict"
   ]
  },
  {
   "cell_type": "code",
   "execution_count": 4,
   "metadata": {},
   "outputs": [],
   "source": [
    "LHEproducer = \"\"\"import FWCore.ParameterSet.Config as cms                                                                                                                                                  \n",
    "# link to card:                                                                                                                                                                                             \n",
    "# https://github.com/cms-sw/genproductions/tree/master/bin/MadGraph5_aMCatNLO/cards/production/2017/13TeV/VBF_HH                                                                                                                                                                                                                                                                                                                                                                                                    \n",
    "                                                                                                                                                                                                            \n",
    "externalLHEProducer = cms.EDProducer(\"ExternalLHEProducer\",                                                                                                                                                 \n",
    "    nEvents = cms.untracked.uint32(5000),                                                                                                                                                                   \n",
    "    outputFile = cms.string('cmsgrid_final.lhe'),                                                                                                                                                           \n",
    "    scriptName = cms.FileInPath('GeneratorInterface/LHEInterface/data/run_generic_tarball_cvmfs.sh'),                                                                                                       \n",
    "    numberOfParameters = cms.uint32(1),                                                                                                                                                                     \n",
    "    args = cms.vstring('__GRIDPACK__')                                                                                                                                                                      \n",
    ")                                                                                                                                                                                                                                                                                                                                                                                                                                                                                                                                           \n",
    "\"\"\"\n"
   ]
  },
  {
   "cell_type": "code",
   "execution_count": 5,
   "metadata": {},
   "outputs": [],
   "source": [
    "params_list = [['1', '1', '1'], ['1', '1', '0'], ['1', '1', '2'], ['1', '2', '1'], ['0_5', '1', '1'], ['1_5', '1', '1'], ['1', '0', '1']]\n",
    "years = [\"2016\", \"2017\", \"2018\"]\n",
    "gridpacks_dict = {}\n",
    "dataset_names = {}"
   ]
  },
  {
   "cell_type": "code",
   "execution_count": 6,
   "metadata": {},
   "outputs": [],
   "source": [
    "for year in range(len(years)):\n",
    "    if (years[year] == \"2016\"):\n",
    "        t_datasetname_year = 'VBFHHTo2B2ZTo2L2J_CV_{cv}_C2V_{c2v}_C3_{c3}_dipoleRecoilOff-TuneCUETP8M1_PSweights_13TeV-madgraph-pythia8'\n",
    "        t_gp_year = \"/cvmfs/cms.cern.ch/phys_generator/gridpacks/pre2017/13TeV/madgraph/V5_2.6.5/VBF_HH_CV_{cv}_C2V_{c2v}_C3_{c3}_13TeV-madgraph/v1/VBF_HH_CV_{cv}_C2V_{c2v}_C3_{c3}_13TeV-madgraph_slc6_amd64_gcc630_CMSSW_9_3_16_tarball.tar.xz\"    \n",
    "    elif (years[year] == \"2017\" or years[year] == \"2018\"):\n",
    "        t_datasetname_year = 'VBFHHTo2B2ZTo2L2J_CV_{cv}_C2V_{c2v}_C3_{c3}_dipoleRecoilOff-TuneCP5_PSweights_13TeV-madgraph-pythia8'\n",
    "        t_gp_year = \"/cvmfs/cms.cern.ch/phys_generator/gridpacks/2017/13TeV/madgraph/V5_2.6.5/VBF_HH_CV_{cv}_C2V_{c2v}_C3_{c3}_13TeV-madgraph/v1/VBF_HH_CV_{cv}_C2V_{c2v}_C3_{c3}_13TeV-madgraph_slc6_amd64_gcc630_CMSSW_9_3_16_tarball.tar.xz\"\n",
    "    \n",
    "    dataset_names_year = []\n",
    "    gp_vbf_year = \"gp_vbf_\" + years[year]\n",
    "    gp_vbf_year = []\n",
    "    \n",
    "\n",
    "    for i in range(len(params_list)):\n",
    "        d = {\"cv\":params_list[i][0], \"c2v\": params_list[i][1], \"c3\": params_list[i][2]}\n",
    "        gp_vbf_year.append(t_gp_year.format_map(d))\n",
    "        dataset_names_year.append(t_datasetname_year.format_map(d))\n",
    "        gridpacks_dict.update( {years[year]:gp_vbf_year})\n",
    "        dataset_names.update( {years[year]:dataset_names_year} )\n",
    "\n",
    "#gridpacks_dict = {'VBF_HH' : {'2016': gp_vbf_2016, '2017': gp_vbf_2017, '2018': gp_vbf_2018}}                                                                                                              \n",
    "#for x in gridpacks_dict:                                                                                                                                                                                   \n",
    "#    print (x)                                                                                                                                                                                              \n",
    "#    for y in gridpacks_dict[x]:                                                                                                                                                                            \n",
    "#        print (y,':', gridpacks_dict[x][y])                 "
   ]
  },
  {
   "cell_type": "code",
   "execution_count": 7,
   "metadata": {},
   "outputs": [],
   "source": [
    "vbf_hh_2B2Z = '''                                                                                                                                                                                           \n",
    "            '15:onMode = off',\n",
    "            '15:onIfAny = 11 13', # only leptonic tau decays\n",
    "            '23:mMin = 0.05',\n",
    "            '23:onMode = off',\n",
    "            '23:onIfAny = 1 2 3 4 5 11 13 15', # Z->jets decay and a leptonic charged Z decay, including taus\n",
    "            '24:mMin = 0.05',\n",
    "            '24:onMode = off',\n",
    "            '25:m0 = 125.0',\n",
    "            '25:onMode = off',\n",
    "            '25:onIfMatch = 5 -5',\n",
    "            '25:onIfMatch = 23 23',\n",
    "            'ResonanceDecayFilter:exclusive = on', #off: require at least the specified number of daughters, on: require exactly the specified number of daughters\n",
    "            'ResonanceDecayFilter:eMuAsEquivalent = off', #on: treat electrons and muons as equivalent\n",
    "            'ResonanceDecayFilter:eMuTauAsEquivalent = on', #on: treat electrons, muons , and taus as equivalent\n",
    "            'ResonanceDecayFilter:allNuAsEquivalent  = off', #on: treat all three neutrino flavours as equivalent\n",
    "            'ResonanceDecayFilter:udscAsEquivalent   = off', #on: treat udsc quarks as equivalent\n",
    "            'ResonanceDecayFilter:udscbAsEquivalent  = on',  #on: treat udscb quarks as equivalent\n",
    "            'ResonanceDecayFilter:mothers = 25,23', #list of mothers not specified -> count all particles in hard process+resonance decays, better to avoid specifying mothers when including leptons from the lhe in counting, since intermediate resonances are not gauranteed to appear in general\n",
    "            'ResonanceDecayFilter:daughters = 5,5,23,23,1,1,11,11',\n",
    "            'SpaceShower:dipoleRecoil = on',\n",
    "'''\n",
    "#'SpaceShower:dipoleRecoil = on' \n"
   ]
  },
  {
   "cell_type": "markdown",
   "metadata": {},
   "source": [
    "## .csv Production"
   ]
  },
  {
   "cell_type": "code",
   "execution_count": 8,
   "metadata": {},
   "outputs": [],
   "source": [
    "#MadgraphVersion = re.compile(\"V5_2\\.[0-9]\\.[0-9]\")\n",
    "process_pythia_map = {'VBFHHTo2B2ZTo2L2J' : fragmentsDictCreator(vbf_hh_2B2Z)}\n",
    "process = 'VBFHHTo2B2ZTo2L2J'"
   ]
  },
  {
   "cell_type": "code",
   "execution_count": 9,
   "metadata": {},
   "outputs": [],
   "source": [
    "#for year in range(len(years)):\n",
    "for year in gridpacks_dict:\n",
    "    #print(year)\n",
    "    with open(process+'_'+year+'_dipoleRecoilOff.csv', 'w') as csvfile:\n",
    "        csvwriter = csv.writer(csvfile, delimiter=',',\n",
    "                            quotechar='\"', quoting=csv.QUOTE_MINIMAL)\n",
    "        csvwriter.writerow(['Dataset name','Events', 'fragment','notes','Generator'])\n",
    "        \n",
    "        for i in range (0,7):\n",
    "            #print(gridpacks_dict[year][i])\n",
    "            #print(dataset_names[year][i])\n",
    "            #version = MadgraphVersion.search(path).group(0)\n",
    "            version=\"2.6.5\"\n",
    "            dataset_name = dataset_names[year][i]\n",
    "            events=4000000\n",
    "            final_fragment = LHEproducer.replace('__GRIDPACK__',gridpacks_dict[year][i]) + '\\n' + process_pythia_map[process][year]\n",
    "            note = dataset_name.replace('_',' ')\n",
    "            generators=\"Madgraph_\" + version + \"  Pythia8\"\n",
    "            csvwriter.writerow([dataset_name, events, final_fragment, note, generators])"
   ]
  },
  {
   "cell_type": "code",
   "execution_count": null,
   "metadata": {},
   "outputs": [],
   "source": []
  },
  {
   "cell_type": "code",
   "execution_count": null,
   "metadata": {},
   "outputs": [],
   "source": []
  }
 ],
 "metadata": {
  "kernelspec": {
   "display_name": "Python 3",
   "language": "python",
   "name": "python3"
  },
  "language_info": {
   "codemirror_mode": {
    "name": "ipython",
    "version": 3
   },
   "file_extension": ".py",
   "mimetype": "text/x-python",
   "name": "python",
   "nbconvert_exporter": "python",
   "pygments_lexer": "ipython3",
   "version": "3.7.4"
  }
 },
 "nbformat": 4,
 "nbformat_minor": 2
}
