{
 "cells": [
  {
   "cell_type": "code",
   "execution_count": 1,
   "metadata": {},
   "outputs": [],
   "source": [
    "import pandas as pd\n",
    "import numpy as np\n",
    "import requests\n",
    "import re\n",
    "import csv"
   ]
  },
  {
   "cell_type": "markdown",
   "metadata": {},
   "source": [
    "### ggF HH production\n",
    "`ggF_Res_BulkGraviton` contains gridpacks related to resonant production mediated by a Spin-2 particle"
   ]
  },
  {
   "cell_type": "code",
   "execution_count": 2,
   "metadata": {},
   "outputs": [],
   "source": [
    "ggF_Res_BulkGraviton = {\n",
    "    '300':'/cvmfs/cms.cern.ch/phys_generator/gridpacks/2017/13TeV/madgraph/V5_2.6.0/BulkGraviton_hh_GF_HH_narrow_M300/v1/BulkGraviton_hh_GF_HH_narrow_M300_slc6_amd64_gcc630_CMSSW_9_3_8_tarball.tar.xz',\n",
    "    '320':'/cvmfs/cms.cern.ch/phys_generator/gridpacks/2017/13TeV/madgraph/V5_2.6.0/BulkGraviton_hh_GF_HH_narrow_M320/v1/BulkGraviton_hh_GF_HH_narrow_M320_slc6_amd64_gcc630_CMSSW_9_3_8_tarball.tar.xz',\n",
    "    '340':'/cvmfs/cms.cern.ch/phys_generator/gridpacks/2017/13TeV/madgraph/V5_2.6.0/BulkGraviton_hh_GF_HH_narrow_M340/v1/BulkGraviton_hh_GF_HH_narrow_M340_slc6_amd64_gcc630_CMSSW_9_3_8_tarball.tar.xz',\n",
    "    '700':'/cvmfs/cms.cern.ch/phys_generator/gridpacks/2017/13TeV/madgraph/V5_2.6.0/BulkGraviton_hh_GF_HH_narrow_M700/v1/BulkGraviton_hh_GF_HH_narrow_M700_slc6_amd64_gcc630_CMSSW_9_3_8_tarball.tar.xz',\n",
    "    '850':'/cvmfs/cms.cern.ch/phys_generator/gridpacks/2017/13TeV/madgraph/V5_2.6.0/BulkGraviton_hh_GF_HH_narrow_M850/v1/BulkGraviton_hh_GF_HH_narrow_M850_slc6_amd64_gcc630_CMSSW_9_3_8_tarball.tar.xz',\n",
    "    '900':'/cvmfs/cms.cern.ch/phys_generator/gridpacks/2017/13TeV/madgraph/V5_2.6.0/BulkGraviton_hh_GF_HH_narrow_M900/v1/BulkGraviton_hh_GF_HH_narrow_M900_slc6_amd64_gcc630_CMSSW_9_3_8_tarball.tar.xz',\n",
    "    '1000':'/cvmfs/cms.cern.ch/phys_generator/gridpacks/2017/13TeV/madgraph/V5_2.6.0/BulkGraviton_hh_GF_HH_narrow_M1000/v1/BulkGraviton_hh_GF_HH_narrow_M1000_slc6_amd64_gcc630_CMSSW_9_3_8_tarball.tar.xz',\n",
    "    '1250':'/cvmfs/cms.cern.ch/phys_generator/gridpacks/2017/13TeV/madgraph/V5_2.6.0/BulkGraviton_hh_GF_HH_narrow_M1250/v1/BulkGraviton_hh_GF_HH_narrow_M1250_slc6_amd64_gcc630_CMSSW_9_3_8_tarball.tar.xz',\n",
    "    '1500':'/cvmfs/cms.cern.ch/phys_generator/gridpacks/2017/13TeV/madgraph/V5_2.6.0/BulkGraviton_hh_GF_HH_narrow_M1500/v1/BulkGraviton_hh_GF_HH_narrow_M1500_slc6_amd64_gcc630_CMSSW_9_3_8_tarball.tar.xz',\n",
    "    '1750':'/cvmfs/cms.cern.ch/phys_generator/gridpacks/2017/13TeV/madgraph/V5_2.6.0/BulkGraviton_hh_GF_HH_narrow_M1750/v1/BulkGraviton_hh_GF_HH_narrow_M1750_slc6_amd64_gcc630_CMSSW_9_3_8_tarball.tar.xz',\n",
    "    '2000':'/cvmfs/cms.cern.ch/phys_generator/gridpacks/2017/13TeV/madgraph/V5_2.6.0/BulkGraviton_hh_GF_HH_narrow_M2000/v1/BulkGraviton_hh_GF_HH_narrow_M2000_slc6_amd64_gcc630_CMSSW_9_3_8_tarball.tar.xz',\n",
    "    '2500':'/cvmfs/cms.cern.ch/phys_generator/gridpacks/2017/13TeV/madgraph/V5_2.6.0/BulkGraviton_hh_GF_HH_narrow_M2500/v1/BulkGraviton_hh_GF_HH_narrow_M2500_slc6_amd64_gcc630_CMSSW_9_3_8_tarball.tar.xz',\n",
    "    '3000':'/cvmfs/cms.cern.ch/phys_generator/gridpacks/2017/13TeV/madgraph/V5_2.6.0/BulkGraviton_hh_GF_HH_narrow_M3000/v1/BulkGraviton_hh_GF_HH_narrow_M3000_slc6_amd64_gcc630_CMSSW_9_3_8_tarball.tar.xz'\n",
    "}\n"
   ]
  },
  {
   "cell_type": "code",
   "execution_count": 3,
   "metadata": {},
   "outputs": [],
   "source": [
    "process_gridpacks_map = {\n",
    "'GluGluToBulkGravitonToHHToPROCESS_M-VALUE_narrow_TuneCP5_PSWeights_13TeV-madgraph-pythia8' : ggF_Res_BulkGraviton,\n",
    "}\n",
    "\n",
    "LHEproducer = \"\"\"import FWCore.ParameterSet.Config as cms\n",
    "\n",
    "externalLHEProducer = cms.EDProducer(\"ExternalLHEProducer\",\n",
    "    args = cms.vstring('__GRIDPACK__'),\n",
    "    nEvents = cms.untracked.uint32(5000),\n",
    "    numberOfParameters = cms.uint32(1),\n",
    "    outputFile = cms.string('cmsgrid_final.lhe'),\n",
    "    scriptName = cms.FileInPath('GeneratorInterface/LHEInterface/data/run_generic_tarball_cvmfs.sh')\n",
    ")\n",
    "\n",
    "#Link to datacards:\n",
    "#https://github.com/cms-sw/genproductions/tree/master/bin/MadGraph5_aMCatNLO/cards/production/2017/13TeV/exo_diboson/\n",
    "\"\"\"\n",
    "\n",
    "num_events = {\n",
    "'300' :300000,\n",
    "'320' :300000,\n",
    "'340' :300000,\n",
    "'700' :200000,\n",
    "'850' :200000,\n",
    "'900' :200000,\n",
    "'1000':100000,\n",
    "'1250':100000,\n",
    "'1500':100000,\n",
    "'1750':100000,\n",
    "'2000':100000,\n",
    "'2500':100000,\n",
    "'3000':100000\n",
    "}"
   ]
  },
  {
   "cell_type": "markdown",
   "metadata": {},
   "source": [
    "#### Pythia 8 fragment for $2b2\\tau$\n",
    "Copied from genproduction ([link](https://github.com/cms-sw/genproductions/blob/master/python/ThirteenTeV/Higgs/HH/ResonanceDecayFilter_example_HHTo2B2T_madgraph_pythia8_CP5_cff.py))\n",
    "\n",
    "_PSWeights_ added!"
   ]
  },
  {
   "cell_type": "code",
   "execution_count": 4,
   "metadata": {},
   "outputs": [],
   "source": [
    "PythiaFragment_2B2Tau=\"\"\"from Configuration.Generator.Pythia8CommonSettings_cfi import *\n",
    "from Configuration.Generator.MCTunes2017.PythiaCP5Settings_cfi import *\n",
    "from Configuration.Generator.PSweightsPythia.PythiaPSweightsSettings_cfi import *\n",
    "\n",
    "\n",
    "generator = cms.EDFilter(\"Pythia8HadronizerFilter\",\n",
    "                         maxEventsToPrint = cms.untracked.int32(1),\n",
    "                         pythiaPylistVerbosity = cms.untracked.int32(1),\n",
    "                         filterEfficiency = cms.untracked.double(1.0),\n",
    "                         pythiaHepMCVerbosity = cms.untracked.bool(False),\n",
    "                         comEnergy = cms.double(13000.),\n",
    "                         PythiaParameters = cms.PSet(\n",
    "                                                     pythia8CommonSettingsBlock,\n",
    "                                                     pythia8CP5SettingsBlock,\n",
    "                                                     pythia8PSweightsSettingsBlock,\n",
    "                                                     processParameters = cms.vstring(\n",
    "                                                                                     '25:m0 = 125.0',\n",
    "                                                                                     '25:onMode = off',\n",
    "                                                                                     '25:onIfMatch = 5 -5',\n",
    "                                                                                     '25:onIfMatch = 15 -15',\n",
    "                                                                                     'ResonanceDecayFilter:filter = on',\n",
    "                                                                                     'ResonanceDecayFilter:exclusive = on', #off: require at least the specified number of daughters, on: require exactly the specified number of daughters\n",
    "                                                                                     'ResonanceDecayFilter:mothers = 25', #list of mothers not specified -> count all particles in hard process+resonance decays, better to avoid specifying mothers when including leptons from the lhe in counting, since intermediate resonances are not gauranteed to appear in general\n",
    "                                                                                     'ResonanceDecayFilter:daughters = 5,5,15,15',\n",
    "                                                                                     ),\n",
    "                                                     parameterSets = cms.vstring('pythia8CommonSettings',\n",
    "                                                                                 'pythia8CP5Settings',\n",
    "                                                                                 'pythia8PSweightsSettings',\n",
    "                                                                                 'processParameters'\n",
    "                                                                                 )\n",
    "                                                     )\n",
    "                         )\n",
    "\n",
    "\n",
    "ProductionFilterSequence = cms.Sequence(generator)\n",
    "\"\"\""
   ]
  },
  {
   "cell_type": "markdown",
   "metadata": {},
   "source": [
    "## .csv Production"
   ]
  },
  {
   "cell_type": "code",
   "execution_count": 5,
   "metadata": {},
   "outputs": [],
   "source": [
    "MadgraphVersion = re.compile(\"V5_2\\.[0-9]\\.[0-9]\")\n",
    "\n",
    "process_pythia_map = {'2B2Tau' : PythiaFragment_2B2Tau\n",
    "                     }\n",
    "\n",
    "process = '2B2Tau'\n",
    "with open('HH_'+process+'_MC2017.csv', 'w') as csvfile:\n",
    "    csvwriter = csv.writer(csvfile, delimiter=',',\n",
    "                            quotechar='\"', quoting=csv.QUOTE_MINIMAL)\n",
    "    csvwriter.writerow(['Dataset name','Events', 'fragment','notes','Generator'])\n",
    "    \n",
    "    \n",
    "    for key, value in process_gridpacks_map.items():\n",
    "        for value, path in value.items():\n",
    "            version = MadgraphVersion.search(path).group(0)\n",
    "            dataset_name = key.replace('PROCESS',process).replace('VALUE',value)\n",
    "            events=num_events[value]\n",
    "            final_fragment = LHEproducer.replace('__GRIDPACK__',path) + '\\n' + process_pythia_map[process]\n",
    "            note = dataset_name.replace('_',' ')\n",
    "            generators=\"Madgraph_\"+str(version)+\" Pythia8\"\n",
    "            csvwriter.writerow([dataset_name, events, final_fragment, note, generators])"
   ]
  },
  {
   "cell_type": "code",
   "execution_count": 6,
   "metadata": {},
   "outputs": [
    {
     "name": "stdout",
     "output_type": "stream",
     "text": [
      "GluGluToBulkGravitonToHHTo2B2Tau_M-300_narrow_TuneCP5_PSWeights_13TeV-madgraph-pythia8,300000,\"import FWCore.ParameterSet.Config as cms\r\n",
      "    args = cms.vstring('/cvmfs/cms.cern.ch/phys_generator/gridpacks/2017/13TeV/madgraph/V5_2.6.0/BulkGraviton_hh_GF_HH_narrow_M300/v1/BulkGraviton_hh_GF_HH_narrow_M300_slc6_amd64_gcc630_CMSSW_9_3_8_tarball.tar.xz'),\r\n",
      "\",GluGluToBulkGravitonToHHTo2B2Tau M-300 narrow TuneCP5 PSWeights 13TeV-madgraph-pythia8,Madgraph_V5_2.6.0 Pythia8\r",
      "\r\n",
      "GluGluToBulkGravitonToHHTo2B2Tau_M-320_narrow_TuneCP5_PSWeights_13TeV-madgraph-pythia8,300000,\"import FWCore.ParameterSet.Config as cms\r\n",
      "    args = cms.vstring('/cvmfs/cms.cern.ch/phys_generator/gridpacks/2017/13TeV/madgraph/V5_2.6.0/BulkGraviton_hh_GF_HH_narrow_M320/v1/BulkGraviton_hh_GF_HH_narrow_M320_slc6_amd64_gcc630_CMSSW_9_3_8_tarball.tar.xz'),\r\n",
      "\",GluGluToBulkGravitonToHHTo2B2Tau M-320 narrow TuneCP5 PSWeights 13TeV-madgraph-pythia8,Madgraph_V5_2.6.0 Pythia8\r",
      "\r\n",
      "GluGluToBulkGravitonToHHTo2B2Tau_M-340_narrow_TuneCP5_PSWeights_13TeV-madgraph-pythia8,300000,\"import FWCore.ParameterSet.Config as cms\r\n",
      "    args = cms.vstring('/cvmfs/cms.cern.ch/phys_generator/gridpacks/2017/13TeV/madgraph/V5_2.6.0/BulkGraviton_hh_GF_HH_narrow_M340/v1/BulkGraviton_hh_GF_HH_narrow_M340_slc6_amd64_gcc630_CMSSW_9_3_8_tarball.tar.xz'),\r\n",
      "\",GluGluToBulkGravitonToHHTo2B2Tau M-340 narrow TuneCP5 PSWeights 13TeV-madgraph-pythia8,Madgraph_V5_2.6.0 Pythia8\r",
      "\r\n",
      "GluGluToBulkGravitonToHHTo2B2Tau_M-700_narrow_TuneCP5_PSWeights_13TeV-madgraph-pythia8,200000,\"import FWCore.ParameterSet.Config as cms\r\n",
      "    args = cms.vstring('/cvmfs/cms.cern.ch/phys_generator/gridpacks/2017/13TeV/madgraph/V5_2.6.0/BulkGraviton_hh_GF_HH_narrow_M700/v1/BulkGraviton_hh_GF_HH_narrow_M700_slc6_amd64_gcc630_CMSSW_9_3_8_tarball.tar.xz'),\r\n",
      "\",GluGluToBulkGravitonToHHTo2B2Tau M-700 narrow TuneCP5 PSWeights 13TeV-madgraph-pythia8,Madgraph_V5_2.6.0 Pythia8\r",
      "\r\n",
      "GluGluToBulkGravitonToHHTo2B2Tau_M-850_narrow_TuneCP5_PSWeights_13TeV-madgraph-pythia8,200000,\"import FWCore.ParameterSet.Config as cms\r\n",
      "    args = cms.vstring('/cvmfs/cms.cern.ch/phys_generator/gridpacks/2017/13TeV/madgraph/V5_2.6.0/BulkGraviton_hh_GF_HH_narrow_M850/v1/BulkGraviton_hh_GF_HH_narrow_M850_slc6_amd64_gcc630_CMSSW_9_3_8_tarball.tar.xz'),\r\n",
      "\",GluGluToBulkGravitonToHHTo2B2Tau M-850 narrow TuneCP5 PSWeights 13TeV-madgraph-pythia8,Madgraph_V5_2.6.0 Pythia8\r",
      "\r\n",
      "GluGluToBulkGravitonToHHTo2B2Tau_M-900_narrow_TuneCP5_PSWeights_13TeV-madgraph-pythia8,200000,\"import FWCore.ParameterSet.Config as cms\r\n",
      "    args = cms.vstring('/cvmfs/cms.cern.ch/phys_generator/gridpacks/2017/13TeV/madgraph/V5_2.6.0/BulkGraviton_hh_GF_HH_narrow_M900/v1/BulkGraviton_hh_GF_HH_narrow_M900_slc6_amd64_gcc630_CMSSW_9_3_8_tarball.tar.xz'),\r\n",
      "\",GluGluToBulkGravitonToHHTo2B2Tau M-900 narrow TuneCP5 PSWeights 13TeV-madgraph-pythia8,Madgraph_V5_2.6.0 Pythia8\r",
      "\r\n",
      "GluGluToBulkGravitonToHHTo2B2Tau_M-1000_narrow_TuneCP5_PSWeights_13TeV-madgraph-pythia8,100000,\"import FWCore.ParameterSet.Config as cms\r\n",
      "    args = cms.vstring('/cvmfs/cms.cern.ch/phys_generator/gridpacks/2017/13TeV/madgraph/V5_2.6.0/BulkGraviton_hh_GF_HH_narrow_M1000/v1/BulkGraviton_hh_GF_HH_narrow_M1000_slc6_amd64_gcc630_CMSSW_9_3_8_tarball.tar.xz'),\r\n",
      "\",GluGluToBulkGravitonToHHTo2B2Tau M-1000 narrow TuneCP5 PSWeights 13TeV-madgraph-pythia8,Madgraph_V5_2.6.0 Pythia8\r",
      "\r\n",
      "GluGluToBulkGravitonToHHTo2B2Tau_M-1250_narrow_TuneCP5_PSWeights_13TeV-madgraph-pythia8,100000,\"import FWCore.ParameterSet.Config as cms\r\n",
      "    args = cms.vstring('/cvmfs/cms.cern.ch/phys_generator/gridpacks/2017/13TeV/madgraph/V5_2.6.0/BulkGraviton_hh_GF_HH_narrow_M1250/v1/BulkGraviton_hh_GF_HH_narrow_M1250_slc6_amd64_gcc630_CMSSW_9_3_8_tarball.tar.xz'),\r\n",
      "\",GluGluToBulkGravitonToHHTo2B2Tau M-1250 narrow TuneCP5 PSWeights 13TeV-madgraph-pythia8,Madgraph_V5_2.6.0 Pythia8\r",
      "\r\n",
      "GluGluToBulkGravitonToHHTo2B2Tau_M-1500_narrow_TuneCP5_PSWeights_13TeV-madgraph-pythia8,100000,\"import FWCore.ParameterSet.Config as cms\r\n",
      "    args = cms.vstring('/cvmfs/cms.cern.ch/phys_generator/gridpacks/2017/13TeV/madgraph/V5_2.6.0/BulkGraviton_hh_GF_HH_narrow_M1500/v1/BulkGraviton_hh_GF_HH_narrow_M1500_slc6_amd64_gcc630_CMSSW_9_3_8_tarball.tar.xz'),\r\n",
      "\",GluGluToBulkGravitonToHHTo2B2Tau M-1500 narrow TuneCP5 PSWeights 13TeV-madgraph-pythia8,Madgraph_V5_2.6.0 Pythia8\r",
      "\r\n",
      "GluGluToBulkGravitonToHHTo2B2Tau_M-1750_narrow_TuneCP5_PSWeights_13TeV-madgraph-pythia8,100000,\"import FWCore.ParameterSet.Config as cms\r\n",
      "    args = cms.vstring('/cvmfs/cms.cern.ch/phys_generator/gridpacks/2017/13TeV/madgraph/V5_2.6.0/BulkGraviton_hh_GF_HH_narrow_M1750/v1/BulkGraviton_hh_GF_HH_narrow_M1750_slc6_amd64_gcc630_CMSSW_9_3_8_tarball.tar.xz'),\r\n",
      "\",GluGluToBulkGravitonToHHTo2B2Tau M-1750 narrow TuneCP5 PSWeights 13TeV-madgraph-pythia8,Madgraph_V5_2.6.0 Pythia8\r",
      "\r\n",
      "GluGluToBulkGravitonToHHTo2B2Tau_M-2000_narrow_TuneCP5_PSWeights_13TeV-madgraph-pythia8,100000,\"import FWCore.ParameterSet.Config as cms\r\n",
      "    args = cms.vstring('/cvmfs/cms.cern.ch/phys_generator/gridpacks/2017/13TeV/madgraph/V5_2.6.0/BulkGraviton_hh_GF_HH_narrow_M2000/v1/BulkGraviton_hh_GF_HH_narrow_M2000_slc6_amd64_gcc630_CMSSW_9_3_8_tarball.tar.xz'),\r\n",
      "\",GluGluToBulkGravitonToHHTo2B2Tau M-2000 narrow TuneCP5 PSWeights 13TeV-madgraph-pythia8,Madgraph_V5_2.6.0 Pythia8\r",
      "\r\n",
      "GluGluToBulkGravitonToHHTo2B2Tau_M-2500_narrow_TuneCP5_PSWeights_13TeV-madgraph-pythia8,100000,\"import FWCore.ParameterSet.Config as cms\r\n",
      "    args = cms.vstring('/cvmfs/cms.cern.ch/phys_generator/gridpacks/2017/13TeV/madgraph/V5_2.6.0/BulkGraviton_hh_GF_HH_narrow_M2500/v1/BulkGraviton_hh_GF_HH_narrow_M2500_slc6_amd64_gcc630_CMSSW_9_3_8_tarball.tar.xz'),\r\n",
      "\",GluGluToBulkGravitonToHHTo2B2Tau M-2500 narrow TuneCP5 PSWeights 13TeV-madgraph-pythia8,Madgraph_V5_2.6.0 Pythia8\r",
      "\r\n",
      "GluGluToBulkGravitonToHHTo2B2Tau_M-3000_narrow_TuneCP5_PSWeights_13TeV-madgraph-pythia8,100000,\"import FWCore.ParameterSet.Config as cms\r\n",
      "    args = cms.vstring('/cvmfs/cms.cern.ch/phys_generator/gridpacks/2017/13TeV/madgraph/V5_2.6.0/BulkGraviton_hh_GF_HH_narrow_M3000/v1/BulkGraviton_hh_GF_HH_narrow_M3000_slc6_amd64_gcc630_CMSSW_9_3_8_tarball.tar.xz'),\r\n",
      "\",GluGluToBulkGravitonToHHTo2B2Tau M-3000 narrow TuneCP5 PSWeights 13TeV-madgraph-pythia8,Madgraph_V5_2.6.0 Pythia8\r",
      "\r\n"
     ]
    }
   ],
   "source": [
    "!grep 'BulkGraviton' HH_2B2Tau_MC2017.csv"
   ]
  },
  {
   "cell_type": "code",
   "execution_count": null,
   "metadata": {},
   "outputs": [],
   "source": []
  }
 ],
 "metadata": {
  "kernelspec": {
   "display_name": "Python 3",
   "language": "python",
   "name": "python3"
  },
  "language_info": {
   "codemirror_mode": {
    "name": "ipython",
    "version": 3
   },
   "file_extension": ".py",
   "mimetype": "text/x-python",
   "name": "python",
   "nbconvert_exporter": "python",
   "pygments_lexer": "ipython3",
   "version": "3.7.4"
  }
 },
 "nbformat": 4,
 "nbformat_minor": 2
}
