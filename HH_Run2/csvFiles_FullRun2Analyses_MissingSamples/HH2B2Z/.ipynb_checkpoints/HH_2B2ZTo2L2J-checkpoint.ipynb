{
 "cells": [
  {
   "cell_type": "code",
   "execution_count": 1,
   "metadata": {},
   "outputs": [],
   "source": [
    "import pandas as pd\n",
    "import numpy as np\n",
    "import requests\n",
    "import re\n",
    "import csv"
   ]
  },
  {
   "cell_type": "markdown",
   "metadata": {},
   "source": [
    "### ggF HH production\n",
    "`ggF_Res_Radion` contains gridpacks related to resonant production mediated by a Spin-0 particle\n",
    "\n",
    "`ggF_Res_BulkGraviton` contains gridpacks related to resonant production mediated by a Spin-2 particle"
   ]
  },
  {
   "cell_type": "code",
   "execution_count": 2,
   "metadata": {},
   "outputs": [],
   "source": [
    "ggF_Res_Radion = {\n",
    "'260' :'/cvmfs/cms.cern.ch/phys_generator/gridpacks/2017/13TeV/madgraph/V5_2.4.2/Radion_hh_narrow_M260/v1/Radion_hh_narrow_M260_slc6_amd64_gcc481_CMSSW_7_1_30_tarball.tar.xz',\n",
    "'270' :'/cvmfs/cms.cern.ch/phys_generator/gridpacks/2017/13TeV/madgraph/V5_2.4.2/Radion_hh_narrow_M270/v1/Radion_hh_narrow_M270_slc6_amd64_gcc481_CMSSW_7_1_30_tarball.tar.xz',\n",
    "'300' :'/cvmfs/cms.cern.ch/phys_generator/gridpacks/2017/13TeV/madgraph/V5_2.4.2/Radion_hh_narrow_M300/v1/Radion_hh_narrow_M300_slc6_amd64_gcc481_CMSSW_7_1_30_tarball.tar.xz',\n",
    "'350' :'/cvmfs/cms.cern.ch/phys_generator/gridpacks/2017/13TeV/madgraph/V5_2.4.2/Radion_hh_narrow_M350/v1/Radion_hh_narrow_M350_slc6_amd64_gcc481_CMSSW_7_1_30_tarball.tar.xz',\n",
    "'400' :'/cvmfs/cms.cern.ch/phys_generator/gridpacks/2017/13TeV/madgraph/V5_2.4.2/Radion_hh_narrow_M400/v1/Radion_hh_narrow_M400_slc6_amd64_gcc481_CMSSW_7_1_30_tarball.tar.xz',\n",
    "'450' :'/cvmfs/cms.cern.ch/phys_generator/gridpacks/2017/13TeV/madgraph/V5_2.4.2/Radion_hh_narrow_M450/v1/Radion_hh_narrow_M450_slc6_amd64_gcc481_CMSSW_7_1_30_tarball.tar.xz',\n",
    "'500' :'/cvmfs/cms.cern.ch/phys_generator/gridpacks/2017/13TeV/madgraph/V5_2.4.2/Radion_hh_narrow_M500/v1/Radion_hh_narrow_M500_slc6_amd64_gcc481_CMSSW_7_1_30_tarball.tar.xz',\n",
    "'550' :'/cvmfs/cms.cern.ch/phys_generator/gridpacks/2017/13TeV/madgraph/V5_2.4.2/Radion_hh_narrow_M550/v1/Radion_hh_narrow_M550_slc6_amd64_gcc481_CMSSW_7_1_30_tarball.tar.xz',\n",
    "'600' :'/cvmfs/cms.cern.ch/phys_generator/gridpacks/2017/13TeV/madgraph/V5_2.4.2/Radion_hh_narrow_M600/v1/Radion_hh_narrow_M600_slc6_amd64_gcc481_CMSSW_7_1_30_tarball.tar.xz',\n",
    "'650' :'/cvmfs/cms.cern.ch/phys_generator/gridpacks/2017/13TeV/madgraph/V5_2.4.2/Radion_hh_narrow_M650/v1/Radion_hh_narrow_M650_slc6_amd64_gcc481_CMSSW_7_1_30_tarball.tar.xz',\n",
    "'750' :'/cvmfs/cms.cern.ch/phys_generator/gridpacks/2017/13TeV/madgraph/V5_2.6.0/GluGluToRadionToHH_M750/v1/GluGluToRadionToHH_M750_slc6_amd64_gcc481_CMSSW_7_1_30_tarball.tar.xz',\n",
    "'800' :'/cvmfs/cms.cern.ch/phys_generator/gridpacks/2017/13TeV/madgraph/V5_2.6.0/GluGluToRadionToHH_M800/v1/GluGluToRadionToHH_M800_slc6_amd64_gcc481_CMSSW_7_1_30_tarball.tar.xz',\n",
    "'900' :'/cvmfs/cms.cern.ch/phys_generator/gridpacks/2017/13TeV/madgraph/V5_2.4.2/Radion_hh_narrow_M900/v1/Radion_hh_narrow_M900_slc6_amd64_gcc481_CMSSW_7_1_30_tarball.tar.xz',\n",
    "'1000':'/cvmfs/cms.cern.ch/phys_generator/gridpacks/2017/13TeV/madgraph/V5_2.4.2/Radion_hh_narrow_M1000/v1/Radion_hh_narrow_M1000_slc6_amd64_gcc481_CMSSW_7_1_30_tarball.tar.xz'\n",
    "}\n",
    "\n",
    "ggF_Res_BulkGraviton = {\n",
    "'260':'/cvmfs/cms.cern.ch/phys_generator/gridpacks/2017/13TeV/madgraph/V5_2.4.2/BulkGraviton_hh_GF_HH_narrow_M260/v1/BulkGraviton_hh_GF_HH_narrow_M260_slc6_amd64_gcc481_CMSSW_7_1_30_tarball.tar.xz',\n",
    "'270':'/cvmfs/cms.cern.ch/phys_generator/gridpacks/2017/13TeV/madgraph/V5_2.4.2/BulkGraviton_hh_GF_HH_narrow_M270/v1/BulkGraviton_hh_GF_HH_narrow_M270_slc6_amd64_gcc481_CMSSW_7_1_30_tarball.tar.xz',\n",
    "'300':'/cvmfs/cms.cern.ch/phys_generator/gridpacks/2017/13TeV/madgraph/V5_2.4.2/BulkGraviton_hh_GF_HH_narrow_M300/v1/BulkGraviton_hh_GF_HH_narrow_M300_slc6_amd64_gcc481_CMSSW_7_1_30_tarball.tar.xz',\n",
    "'350':'/cvmfs/cms.cern.ch/phys_generator/gridpacks/2017/13TeV/madgraph/V5_2.4.2/BulkGraviton_hh_GF_HH_narrow_M350/v1/BulkGraviton_hh_GF_HH_narrow_M350_slc6_amd64_gcc481_CMSSW_7_1_30_tarball.tar.xz',\n",
    "'400':'/cvmfs/cms.cern.ch/phys_generator/gridpacks/2017/13TeV/madgraph/V5_2.4.2/BulkGraviton_hh_GF_HH_narrow_M400/v1/BulkGraviton_hh_GF_HH_narrow_M400_slc6_amd64_gcc481_CMSSW_7_1_30_tarball.tar.xz',\n",
    "'450':'/cvmfs/cms.cern.ch/phys_generator/gridpacks/2017/13TeV/madgraph/V5_2.4.2/BulkGraviton_hh_GF_HH_narrow_M450/v1/BulkGraviton_hh_GF_HH_narrow_M450_slc6_amd64_gcc481_CMSSW_7_1_30_tarball.tar.xz',\n",
    "'500':'/cvmfs/cms.cern.ch/phys_generator/gridpacks/2017/13TeV/madgraph/V5_2.4.2/BulkGraviton_hh_GF_HH_narrow_M500/v1/BulkGraviton_hh_GF_HH_narrow_M500_slc6_amd64_gcc481_CMSSW_7_1_30_tarball.tar.xz',\n",
    "'550':'/cvmfs/cms.cern.ch/phys_generator/gridpacks/2017/13TeV/madgraph/V5_2.4.2/BulkGraviton_hh_GF_HH_narrow_M550/v2/BulkGraviton_hh_GF_HH_narrow_M550_slc6_amd64_gcc481_CMSSW_7_1_30_tarball.tar.xz',\n",
    "'600':'/cvmfs/cms.cern.ch/phys_generator/gridpacks/2017/13TeV/madgraph/V5_2.4.2/BulkGraviton_hh_GF_HH_narrow_M600/v1/BulkGraviton_hh_GF_HH_narrow_M600_slc6_amd64_gcc481_CMSSW_7_1_30_tarball.tar.xz',\n",
    "'650':'/cvmfs/cms.cern.ch/phys_generator/gridpacks/2017/13TeV/madgraph/V5_2.4.2/BulkGraviton_hh_GF_HH_narrow_M650/v1/BulkGraviton_hh_GF_HH_narrow_M650_slc6_amd64_gcc481_CMSSW_7_1_30_tarball.tar.xz',\n",
    "'750':'/cvmfs/cms.cern.ch/phys_generator/gridpacks/2017/13TeV/madgraph/V5_2.4.2/BulkGraviton_hh_GF_HH_narrow_M750/v1/BulkGraviton_hh_GF_HH_narrow_M750_slc6_amd64_gcc481_CMSSW_7_1_30_tarball.tar.xz',\n",
    "'800':'/cvmfs/cms.cern.ch/phys_generator/gridpacks/2017/13TeV/madgraph/V5_2.4.2/BulkGraviton_hh_GF_HH_narrow_M800/v1/BulkGraviton_hh_GF_HH_narrow_M800_slc6_amd64_gcc481_CMSSW_7_1_30_tarball.tar.xz',\n",
    "'900':'/cvmfs/cms.cern.ch/phys_generator/gridpacks/2017/13TeV/madgraph/V5_2.6.0/GluGluToBulkGravitonToHH_M900/v1/GluGluToBulkGravitonToHH_M900_slc6_amd64_gcc481_CMSSW_7_1_30_tarball.tar.xz',\n",
    "'1000':'/cvmfs/cms.cern.ch/phys_generator/gridpacks/2017/13TeV/madgraph/V5_2.4.2/BulkGraviton_hh_GF_HH_narrow_M1000/v1/BulkGraviton_hh_GF_HH_narrow_M1000_slc6_amd64_gcc481_CMSSW_7_1_30_tarball.tar.xz'\n",
    "}\n"
   ]
  },
  {
   "cell_type": "code",
   "execution_count": 3,
   "metadata": {},
   "outputs": [],
   "source": [
    "process_gridpacks_map = {\n",
    "'GluGluToRadionToHHToPROCESS_M-VALUE_narrow_TuneCP5_PSWeights_13TeV-madgraph-pythia8': ggF_Res_Radion,\n",
    "'GluGluToBulkGravitonToHHToPROCESS_M-VALUE_narrow_TuneCP5_PSWeights_13TeV-madgraph-pythia8' : ggF_Res_BulkGraviton,\n",
    "}\n",
    "\n",
    "LHEproducer = \"\"\"import FWCore.ParameterSet.Config as cms\n",
    "\n",
    "#Link to datacard:\n",
    "##https://github.com/cms-sw/genproductions/tree/master/bin/MadGraph5_aMCatNLO/cards/production/2017/13TeV/exo_diboson/\n",
    "\n",
    "externalLHEProducer = cms.EDProducer(\"ExternalLHEProducer\",\n",
    "    args = cms.vstring('__GRIDPACK__'),\n",
    "    nEvents = cms.untracked.uint32(5000),\n",
    "    numberOfParameters = cms.uint32(1),\n",
    "    outputFile = cms.string('cmsgrid_final.lhe'),\n",
    "    scriptName = cms.FileInPath('GeneratorInterface/LHEInterface/data/run_generic_tarball_cvmfs.sh')\n",
    ")\n",
    "\n",
    "\"\"\"\n",
    "\n",
    "num_events = {\n",
    "'260' :300000,\n",
    "'270' :300000,\n",
    "'300' :300000,\n",
    "'350' :300000,\n",
    "'400' :300000,\n",
    "'450' :300000,\n",
    "'500' :300000,\n",
    "'550' :300000,\n",
    "'600' :300000,\n",
    "'650' :300000,\n",
    "'750' :300000,\n",
    "'800' :300000,\n",
    "'900' :300000,\n",
    "'1000':300000\n",
    "}"
   ]
  },
  {
   "cell_type": "markdown",
   "metadata": {},
   "source": [
    "#### Pythia8 fragment for 2B2ZTo2L2J\n",
    "Copied from genproduction ([link](https://github.com/cms-sw/genproductions/blob/master/python/ThirteenTeV/Higgs/HH/ResonanceDecayFilter_example_HHTo2B2L2J_madgraph_pythia8_CP5_cff.py))\n",
    "\n",
    "_PSWeights_ added!"
   ]
  },
  {
   "cell_type": "code",
   "execution_count": 4,
   "metadata": {},
   "outputs": [],
   "source": [
    "PythiaFragment_2B2ZTo2L2J=\"\"\"\n",
    "from Configuration.Generator.Pythia8CommonSettings_cfi import *\n",
    "from Configuration.Generator.MCTunes2017.PythiaCP5Settings_cfi import *\n",
    "from Configuration.Generator.PSweightsPythia.PythiaPSweightsSettings_cfi import * \n",
    "\n",
    "generator = cms.EDFilter(\"Pythia8HadronizerFilter\",\n",
    "                         maxEventsToPrint = cms.untracked.int32(1),\n",
    "                         pythiaPylistVerbosity = cms.untracked.int32(1),\n",
    "                         filterEfficiency = cms.untracked.double(1.0),\n",
    "                         pythiaHepMCVerbosity = cms.untracked.bool(False),\n",
    "                         comEnergy = cms.double(13000.),\n",
    "                         PythiaParameters = cms.PSet(\n",
    "        pythia8CommonSettingsBlock,\n",
    "        pythia8CP5SettingsBlock,\n",
    "        pythia8PSweightsSettingsBlock,\n",
    "        processParameters = cms.vstring(\n",
    "            '15:onMode = off',\n",
    "            '15:onIfAny = 11 13', # only leptonic tau decays\n",
    "            '23:mMin = 0.05',\n",
    "            '23:onMode = off',\n",
    "            '23:onIfAny = 1 2 3 4 5 11 13 15', # Z->jets decay and a leptonic charged Z decay, including taus\n",
    "            '24:mMin = 0.05',\n",
    "            '24:onMode = off',\n",
    "            '25:m0 = 125.0',\n",
    "            '25:onMode = off',\n",
    "            '25:onIfMatch = 5 -5',\n",
    "            '25:onIfMatch = 23 23',\n",
    "            'ResonanceDecayFilter:filter = on',\n",
    "            'ResonanceDecayFilter:exclusive = on', #off: require at least the specified number of daughters, on: require exactly the specified number of daughters\n",
    "            'ResonanceDecayFilter:eMuAsEquivalent = off', #on: treat electrons and muons as equivalent\n",
    "            'ResonanceDecayFilter:eMuTauAsEquivalent = on', #on: treat electrons, muons , and taus as equivalent\n",
    "            'ResonanceDecayFilter:allNuAsEquivalent  = off', #on: treat all three neutrino flavours as equivalent\n",
    "            'ResonanceDecayFilter:udscAsEquivalent   = off', #on: treat udsc quarks as equivalent\n",
    "            'ResonanceDecayFilter:udscbAsEquivalent  = on',  #on: treat udscb quarks as equivalent\n",
    "            'ResonanceDecayFilter:mothers = 25,23', #list of mothers not specified -> count all particles in hard process+resonance decays, better to avoid specifying mothers when including leptons from the lhe in counting, since intermediate resonances are not gauranteed to appear in general\n",
    "            'ResonanceDecayFilter:daughters = 5,5,23,23,1,1,11,11',\n",
    "          ),\n",
    "        parameterSets = cms.vstring('pythia8CommonSettings',\n",
    "                                    'pythia8CP5Settings',\n",
    "                                    'pythia8PSweightsSettings',\n",
    "                                    'processParameters'\n",
    "                                    )\n",
    "        )\n",
    "                         )\n",
    "\n",
    "ProductionFilterSequence = cms.Sequence(generator)\n",
    "\"\"\""
   ]
  },
  {
   "cell_type": "markdown",
   "metadata": {},
   "source": [
    "## .csv Production"
   ]
  },
  {
   "cell_type": "code",
   "execution_count": 5,
   "metadata": {},
   "outputs": [],
   "source": [
    "MadgraphVersion = re.compile(\"V5_2\\.[0-9]\\.[0-9]\")\n",
    "\n",
    "process_pythia_map = {'2B2ZTo2L2J' : PythiaFragment_2B2ZTo2L2J}\n",
    "\n",
    "process = '2B2ZTo2L2J'\n",
    "with open('HH_'+process+'_MC2018.csv', 'w') as csvfile:\n",
    "    csvwriter = csv.writer(csvfile, delimiter=',',\n",
    "                            quotechar='\"', quoting=csv.QUOTE_MINIMAL)\n",
    "    csvwriter.writerow(['Dataset name','Events', 'fragment','notes','Generator'])\n",
    "    \n",
    "    for key, value in process_gridpacks_map.items():\n",
    "        for value, path in value.items():\n",
    "            #print('\\t %s - %s' %(key.replace('VALUE',value),path))\n",
    "            version = MadgraphVersion.search(path).group(0)\n",
    "            dataset_name = key.replace('PROCESS',process).replace('VALUE',value)\n",
    "            events=num_events[value]\n",
    "            final_fragment = LHEproducer.replace('__GRIDPACK__',path) + '\\n' + process_pythia_map[process]\n",
    "            note = dataset_name.replace('_',' ')\n",
    "            generators=\"Madgraph_\"+str(version)+\" Pythia8\"\n",
    "            csvwriter.writerow([dataset_name, events, final_fragment, note, generators])"
   ]
  },
  {
   "cell_type": "code",
   "execution_count": 6,
   "metadata": {},
   "outputs": [
    {
     "name": "stdout",
     "output_type": "stream",
     "text": [
      "CSV file HH_2B2ZTo2L2J_MC2018.csv saved!\n"
     ]
    }
   ],
   "source": [
    "print(\"CSV file HH_\"+process+\"_MC2018.csv saved!\")"
   ]
  },
  {
   "cell_type": "code",
   "execution_count": null,
   "metadata": {},
   "outputs": [],
   "source": []
  }
 ],
 "metadata": {
  "kernelspec": {
   "display_name": "Python 3",
   "language": "python",
   "name": "python3"
  },
  "language_info": {
   "codemirror_mode": {
    "name": "ipython",
    "version": 3
   },
   "file_extension": ".py",
   "mimetype": "text/x-python",
   "name": "python",
   "nbconvert_exporter": "python",
   "pygments_lexer": "ipython3",
   "version": "3.7.4"
  }
 },
 "nbformat": 4,
 "nbformat_minor": 2
}
