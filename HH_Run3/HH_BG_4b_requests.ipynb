{
 "cells": [
  {
   "cell_type": "code",
   "execution_count": null,
   "metadata": {},
   "outputs": [],
   "source": [
    "import pandas as pd\n",
    "import numpy as np\n",
    "import requests\n",
    "import csv"
   ]
  },
  {
   "cell_type": "code",
   "execution_count": null,
   "metadata": {},
   "outputs": [],
   "source": [
    "LHEproducer = \"\"\"import FWCore.ParameterSet.Config as cms\n",
    "\n",
    "externalLHEProducer = cms.EDProducer(\"ExternalLHEProducer\",\n",
    "    args = cms.vstring('__GRIDPACK__'),\n",
    "    nEvents = cms.untracked.uint32(5000),\n",
    "    numberOfParameters = cms.uint32(1),\n",
    "    outputFile = cms.string('cmsgrid_final.lhe'),\n",
    "    generateConcurrently = cms.untracked.bool(False),\n",
    "    scriptName = cms.FileInPath('GeneratorInterface/LHEInterface/data/run_generic_tarball_cvmfs.sh')\n",
    ")\n",
    "\n",
    "#Link to datacards:\n",
    "#https://github.com/cms-sw/genproductions/tree/master/bin/MadGraph5_aMCatNLO/cards/production/13p6TeV/HHresonant/Spin-2\n",
    "\"\"\"\n",
    "\n",
    "pythiaFragment = \"\"\"from Configuration.Generator.Pythia8CommonSettings_cfi import *\n",
    "from Configuration.Generator.MCTunesRun3ECM13p6TeV.PythiaCP5Settings_cfi import *\n",
    "from Configuration.Generator.PSweightsPythia.PythiaPSweightsSettings_cfi import *\n",
    "\n",
    "generator = cms.EDFilter(\"Pythia8ConcurrentHadronizerFilter\",\n",
    "    maxEventsToPrint = cms.untracked.int32(1),\n",
    "    pythiaPylistVerbosity = cms.untracked.int32(1),\n",
    "    filterEfficiency = cms.untracked.double(1.0),\n",
    "    pythiaHepMCVerbosity = cms.untracked.bool(False),\n",
    "    comEnergy = cms.double(13600.),\n",
    "    PythiaParameters = cms.PSet(\n",
    "        pythia8CommonSettingsBlock,\n",
    "        pythia8CP5SettingsBlock,\n",
    "        pythia8PSweightsSettingsBlock,\n",
    "        processParameters = cms.vstring(\n",
    "                                    '25:onMode = off',\n",
    "                                    '25:onIfMatch = 5 -5'\n",
    "          ),\n",
    "        parameterSets = cms.vstring('pythia8CommonSettings',\n",
    "                                    'pythia8CP5Settings',\n",
    "                                    'pythia8PSweightsSettings',\n",
    "                                    'processParameters')\n",
    "    )\n",
    ")\"\"\""
   ]
  },
  {
   "cell_type": "code",
   "execution_count": null,
   "metadata": {},
   "outputs": [],
   "source": [
    "print(LHEproducer+\"\\n\"+pythiaFragment)"
   ]
  },
  {
   "cell_type": "code",
   "execution_count": null,
   "metadata": {},
   "outputs": [],
   "source": [
    "years = [\"2022\",\"2022EE\"]\n",
    "masses = [\"250\", \"260\", \"270\", \"280\", \"300\", \"350\", \"450\", \"550\", \"600\", \"650\", \"700\", \"800\", \"1000\",\n",
    "\"1200\", \"1400\", \"1600\", \"1800\", \"2000\", \"2500\", \"3000\", \"4000\", \"5000\"]\n",
    "\n",
    "events = [400000]*13+[100000]*9\n",
    "for year in years:\n",
    "    with open('BulkGraviton_HH_4B_'+ year + '.csv', 'w') as csvfile:\n",
    "        csvwriter = csv.writer(csvfile, delimiter=',',\n",
    "                            quotechar='\"', quoting=csv.QUOTE_MINIMAL)\n",
    "        csvwriter.writerow(['Dataset name','Events', 'fragment','notes','Generator', 'mcdbid','time','size'])\n",
    "\n",
    "        for mass, event in zip(masses, events):\n",
    "            version=\"2.9.13\"\n",
    "            generators=\"Madgraph_\" + version + \"  Pythia8\"\n",
    "            gp = \"/cvmfs/cms.cern.ch/phys_generator/gridpacks/RunIII/13p6TeV/slc7_amd64_gcc10/MadGraph5_aMCatNLO/GF_HH_Spin2/BulkGraviton_hh_GF_HH_narrow_M{0}_slc7_amd64_gcc10_CMSSW_12_4_8_tarball.tar.xz\".format(mass)\n",
    "            dataset_name = \"GluGlutoBulkGravitontoHHto4B_M-{0}_narrow_TuneCP5_13p6TeV_madgraph-pythia8\".format(mass)\n",
    "            final_fragment = LHEproducer.replace('__GRIDPACK__',gp) + '\\n\\n' + pythiaFragment\n",
    "            if year == \"2022\":\n",
    "                tot_events = round(event * 0.22)\n",
    "            elif year == \"2022EE\":\n",
    "                tot_events = round(event * 0.78)\n",
    "            note = \"GluGlu BulkGraviton production m_BG = {0} GeV decaying into HH (m_H = 125 GeV) in the 4b final state (RunIII)\".format(mass)\n",
    "            mcdb_id = '0'\n",
    "            time = '0.1'\n",
    "            size = '30'\n",
    "            csvwriter.writerow([dataset_name, tot_events, final_fragment, note, generators, mcdb_id, time, size])\n",
    "        "
   ]
  },
  {
   "cell_type": "code",
   "execution_count": null,
   "metadata": {},
   "outputs": [],
   "source": []
  }
 ],
 "metadata": {
  "kernelspec": {
   "display_name": "Python 3",
   "language": "python",
   "name": "python3"
  },
  "language_info": {
   "codemirror_mode": {
    "name": "ipython",
    "version": 3
   },
   "file_extension": ".py",
   "mimetype": "text/x-python",
   "name": "python",
   "nbconvert_exporter": "python",
   "pygments_lexer": "ipython3",
   "version": "3.11.4"
  }
 },
 "nbformat": 4,
 "nbformat_minor": 4
}
