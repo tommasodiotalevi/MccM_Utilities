{
 "cells": [
  {
   "cell_type": "code",
   "execution_count": null,
   "id": "6ee5074b",
   "metadata": {},
   "outputs": [],
   "source": [
    "import pandas as pd\n",
    "import numpy as np\n",
    "import requests\n",
    "import re\n",
    "import csv"
   ]
  },
  {
   "cell_type": "code",
   "execution_count": null,
   "id": "f9b5284b",
   "metadata": {},
   "outputs": [],
   "source": [
    "pythia_fragment_CP5 = \"\"\"\n",
    "from Configuration.Generator.Pythia8CommonSettings_cfi import *\n",
    "from Configuration.Generator.MCTunesRun3ECM13p6TeV.PythiaCP5Settings_cfi import *\n",
    "from Configuration.Generator.PSweightsPythia.PythiaPSweightsSettings_cfi import *\n",
    "\n",
    "generator = cms.EDFilter(\"Pythia8ConcurrentHadronizerFilter\",\n",
    "                         maxEventsToPrint = cms.untracked.int32(1),\n",
    "                         pythiaPylistVerbosity = cms.untracked.int32(1),\n",
    "\n",
    "                         pythiaHepMCVerbosity = cms.untracked.bool(False),\n",
    "                         comEnergy = cms.double(13600.),\n",
    "                         PythiaParameters = cms.PSet(\n",
    "                                                     pythia8CommonSettingsBlock,\n",
    "                                                     pythia8CP5SettingsBlock,\n",
    "                                                     pythia8PSweightsSettingsBlock,\n",
    "                                                     processParameters = cms.vstring(\n",
    "                                                     __CHANNEL_DECAY_FRAGMENT__\n",
    "                                                     ),\n",
    "                                                     parameterSets = cms.vstring('pythia8CommonSettings',\n",
    "                                                                                 'pythia8CP5Settings',\n",
    "                                                                                 'pythia8PSweightsSettings',\n",
    "                                                                                 'processParameters'\n",
    "                                                                                 )\n",
    "                                                     )\n",
    "                         )\n",
    "\n",
    "\n",
    "ProductionFilterSequence = cms.Sequence(generator)\n",
    "\"\"\""
   ]
  },
  {
   "cell_type": "code",
   "execution_count": null,
   "id": "95c06e83",
   "metadata": {},
   "outputs": [],
   "source": [
    "def fragmentsDictCreator(decay_fr):\n",
    "    dict = { '2024': pythia_fragment_CP5.replace('__CHANNEL_DECAY_FRAGMENT__',decay_fr),\n",
    "           }\n",
    "    return dict"
   ]
  },
  {
   "cell_type": "code",
   "execution_count": null,
   "id": "7d3e89b3",
   "metadata": {},
   "outputs": [],
   "source": [
    "LHEproducer = \"\"\"\n",
    "import FWCore.ParameterSet.Config as cms\n",
    "\n",
    "# link to cards:\n",
    "# __EXAMPLE__\n",
    "\n",
    "externalLHEProducer = cms.EDProducer('ExternalLHEProducer',\n",
    "    args = cms.vstring('__GRIDPACK__'),\n",
    "    nEvents = cms.untracked.uint32(5000),\n",
    "    numberOfParameters = cms.uint32(1),\n",
    "    outputFile = cms.string('cmsgrid_final.lhe'),\n",
    "    generateConcurrently = cms.untracked.bool(False),\n",
    "    scriptName = cms.FileInPath('GeneratorInterface/LHEInterface/data/run_generic_tarball_cvmfs.sh')\n",
    ")\n",
    "\"\"\""
   ]
  },
  {
   "cell_type": "code",
   "execution_count": null,
   "id": "b2e33a1b",
   "metadata": {},
   "outputs": [],
   "source": [
    "years = [\"2024\"]\n",
    "M = [\"3000\", \"4000\", \"5000\", \"6000\", \"7000\", \"8000\", \"9000\", \"10000\"]\n",
    "\n",
    "tot_events = [250000]*len(M)\n",
    "gridpacks_dict = {}\n",
    "example_dict = {}\n",
    "dataset_names = {}"
   ]
  },
  {
   "cell_type": "code",
   "execution_count": null,
   "id": "0e4daf31",
   "metadata": {},
   "outputs": [],
   "source": [
    "for year in range(len(years)):\n",
    "    t_example1 = 'https://gitlab.cern.ch/cms-gen/genproductions_cards/-/tree/master/MadGraph5_aMCatNLO/production/13p6TeV/diquark_Suu_ut'\n",
    "    t_datasetname_year = 'SuutoTU-TtoBLNu_Par-MSuu-{mass}_TuneCP5_13p6TeV_madgraph-pythia8'\n",
    "    t_gp_year = \"/cvmfs/cms-griddata.cern.ch/phys_generator/gridpacks_tarball/pp/13p6TeV/madgraph/SuuToTU/diquark_Suu_ut_Msuu_{mass}_Run3_el8_amd64_gcc10_CMSSW_12_4_8_tarball.tar.xz\"    \n",
    "    tmp_dataset_dict={}\n",
    "    tmp_gridpack_dict={}\n",
    "    tmp_example_dict={}\n",
    "    dataset_names_year = []\n",
    "    gp_tprime_year = \"gp_tprime_\" + years[year]\n",
    "    gp_tprime_year = []\n",
    "    \n",
    "    dataset_names_year = []\n",
    "    gp_tprime_year = []\n",
    "\n",
    "    for msuu in M:\n",
    "        d = {\"mass\": msuu}\n",
    "        tmp_example_dict = t_example1\n",
    "        gp_tprime_year.append(t_gp_year.format_map(d))\n",
    "        dataset_names_year.append(t_datasetname_year.format_map(d))\n",
    "        tmp_dataset_dict = dataset_names_year\n",
    "        tmp_gridpack_dict = gp_tprime_year\n",
    "        \n",
    "    gridpacks_dict[years[year]] = tmp_gridpack_dict\n",
    "    dataset_names[years[year]] = tmp_dataset_dict\n",
    "    example_dict[years[year]] = tmp_example_dict"
   ]
  },
  {
   "cell_type": "markdown",
   "id": "5a92eab4",
   "metadata": {},
   "source": [
    "## .csv Production"
   ]
  },
  {
   "cell_type": "code",
   "execution_count": null,
   "id": "925fc8f7-e1e5-4402-b976-298690d8d67d",
   "metadata": {},
   "outputs": [],
   "source": [
    "tau_bug = \"\"\"\n",
    "                                                        TauDecays:externalMode=2\n",
    "\"\"\""
   ]
  },
  {
   "cell_type": "code",
   "execution_count": null,
   "id": "18c28650",
   "metadata": {},
   "outputs": [],
   "source": [
    "#MadgraphVersion = re.compile(\"V5_2\\.[0-9]\\.[0-9]\")\n",
    "process_pythia_map = {}\n",
    "tmp_process_pythia_map = {}\n",
    "tmp_process_pythia_map = fragmentsDictCreator(tau_bug)\n",
    "process_pythia_map.update(tmp_process_pythia_map)"
   ]
  },
  {
   "cell_type": "code",
   "execution_count": null,
   "id": "c65db4d3",
   "metadata": {},
   "outputs": [],
   "source": [
    "#for year in range(len(years)):\n",
    "for year in gridpacks_dict:\n",
    "    #print(year)\n",
    "    with open('SuutoTU' + '_' + year +'.csv', 'w') as csvfile:\n",
    "        csvwriter = csv.writer(csvfile, delimiter=',',\n",
    "                        quotechar='\"', quoting=csv.QUOTE_MINIMAL)\n",
    "        csvwriter.writerow(['prepid', 'Dataset name','Events', 'fragment','notes','Generator','mcdbid','time','size'])\n",
    "        #if year == \"2023\":\n",
    "        #    pr = 6027\n",
    "        #if year == \"2023BPix\":\n",
    "        #    pr = 6232\n",
    "        pr=703    \n",
    "        k=0\n",
    "        for i in range(len(M)):\n",
    "            tmp_fragment=\"\"\n",
    "            #print(gridpacks_dict[year][i])\n",
    "            #print(dataset_names[year][i])\n",
    "            #version = MadgraphVersion.search(path).group(0)\n",
    "            version=\"2.9.18\"\n",
    "            dataset_name = dataset_names[year][k]\n",
    "            events = tot_events[i]\n",
    "            prepid = 'RunIII2024Summer24wmLHEGS-00' + str(pr)\n",
    "                \n",
    "            tmp_fragment = LHEproducer.replace('__GRIDPACK__',gridpacks_dict[year][k]) + '\\n' + process_pythia_map[year]\n",
    "            final_fragment = tmp_fragment.replace('__EXAMPLE__',example_dict[year])\n",
    "            note = dataset_name.replace('_',' ')\n",
    "            generators=\"Madgraph_\" + version + \"  Pythia8\"\n",
    "            mcdb_id = '0'\n",
    "            time = '0.01'\n",
    "            size = '30'\n",
    "            csvwriter.writerow([prepid, dataset_name, events, final_fragment, note, generators, mcdb_id, time, size])\n",
    "            pr = pr+1   \n",
    "            k=k+1"
   ]
  },
  {
   "cell_type": "code",
   "execution_count": null,
   "id": "15880985-3dae-4dc7-bb63-24398d067ea0",
   "metadata": {},
   "outputs": [],
   "source": []
  }
 ],
 "metadata": {
  "kernelspec": {
   "display_name": "Python 3",
   "language": "python",
   "name": "python3"
  },
  "language_info": {
   "codemirror_mode": {
    "name": "ipython",
    "version": 3
   },
   "file_extension": ".py",
   "mimetype": "text/x-python",
   "name": "python",
   "nbconvert_exporter": "python",
   "pygments_lexer": "ipython3",
   "version": "3.13.7"
  }
 },
 "nbformat": 4,
 "nbformat_minor": 5
}
