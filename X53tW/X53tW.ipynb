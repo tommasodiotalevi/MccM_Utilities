{
 "cells": [
  {
   "cell_type": "code",
   "execution_count": null,
   "metadata": {},
   "outputs": [],
   "source": [
    "import pandas as pd\n",
    "import numpy as np\n",
    "import requests\n",
    "import re\n",
    "import csv"
   ]
  },
  {
   "cell_type": "markdown",
   "metadata": {},
   "source": [
    "### GGF HH production"
   ]
  },
  {
   "cell_type": "code",
   "execution_count": null,
   "metadata": {},
   "outputs": [],
   "source": [
    "pythia_fragment_CP5 = \"\"\"\n",
    "from Configuration.Generator.Pythia8CommonSettings_cfi import *\n",
    "from Configuration.Generator.MCTunes2017.PythiaCP5Settings_cfi import *\n",
    "from Configuration.Generator.PSweightsPythia.PythiaPSweightsSettings_cfi import *\n",
    "\n",
    "generator = cms.EDFilter(\"Pythia8ConcurrentHadronizerFilter\",\n",
    "                         maxEventsToPrint = cms.untracked.int32(1),\n",
    "                         pythiaPylistVerbosity = cms.untracked.int32(1),\n",
    "                         filterEfficiency = cms.untracked.double(1.0),\n",
    "                         pythiaHepMCVerbosity = cms.untracked.bool(False),\n",
    "                         comEnergy = cms.double(13000.),\n",
    "                         PythiaParameters = cms.PSet(\n",
    "        pythia8CommonSettingsBlock,\n",
    "        pythia8CP5SettingsBlock,\n",
    "        pythia8PSweightsSettingsBlock,\n",
    "        parameterSets = cms.vstring('pythia8CommonSettings',\n",
    "                                    'pythia8CP5Settings',\n",
    "                                    'pythia8PSweightsSettings'\n",
    "                                    )\n",
    "        )\n",
    "                         )\n",
    "\n",
    "ProductionFilterSequence = cms.Sequence(generator)\n",
    "\"\"\""
   ]
  },
  {
   "cell_type": "code",
   "execution_count": null,
   "metadata": {},
   "outputs": [],
   "source": [
    "def fragmentsDictCreator ():\n",
    "    dict = { '2016': pythia_fragment_CP5,\n",
    "             '2016APV': pythia_fragment_CP5,\n",
    "             '2017': pythia_fragment_CP5,\n",
    "             '2018': pythia_fragment_CP5\n",
    "                    }\n",
    "    return dict"
   ]
  },
  {
   "cell_type": "code",
   "execution_count": null,
   "metadata": {},
   "outputs": [],
   "source": [
    "LHEproducer = \"\"\"\n",
    "import FWCore.ParameterSet.Config as cms\n",
    "\n",
    "# link to cards:\n",
    "# __EXAMPLE__\n",
    "\n",
    "externalLHEProducer = cms.EDProducer('ExternalLHEProducer',\n",
    "    args = cms.vstring('__GRIDPACK__'),\n",
    "    nEvents = cms.untracked.uint32(5000),\n",
    "    numberOfParameters = cms.uint32(1),\n",
    "    outputFile = cms.string('cmsgrid_final.lhe'),\n",
    "    generateConcurrently = cms.untracked.bool(False),\n",
    "    scriptName = cms.FileInPath('GeneratorInterface/LHEInterface/data/run_generic_tarball_cvmfs.sh')\n",
    ")\n",
    "\"\"\""
   ]
  },
  {
   "cell_type": "code",
   "execution_count": null,
   "metadata": {},
   "outputs": [],
   "source": [
    "years = [\"2016\", \"2016APV\", \"2017\", \"2018\"]\n",
    "mass_point = [\"1700\"]\n",
    "tot_events = [300000]*10\n",
    "gridpacks_dict = {}\n",
    "example_dict = {}\n",
    "dataset_names = {}"
   ]
  },
  {
   "cell_type": "code",
   "execution_count": null,
   "metadata": {},
   "outputs": [],
   "source": [
    "for year in range(len(years)):\n",
    "    t_example1 = 'https://github.com/cms-sw/genproductions/tree/master/bin/MadGraph5_aMCatNLO/cards/production/2017/13TeV/PairVLQ_x53x53_tWtW_narrow/PairVLQ_x53x53_tWtW_narrow_RH_M1000'\n",
    "    t_datasetname_year = 'PairVLQ_x53x53_tWtW_narrow_RH_M{massX}_TuneCP5_13TeV-madgraph-pythia8'\n",
    "    t_gp_year = \"/cvmfs/cms.cern.ch/phys_generator/gridpacks/2017/13TeV/madgraph/V5_2.6.5/PairVLQ_x53x53/tWtW/PairVLQ_x53x53_tWtW_narrow_RH_M{massX}_slc7_amd64_gcc700_CMSSW_10_6_19_tarball.tar.xz\"    \n",
    "    tmp_dataset_dict={}\n",
    "    tmp_gridpack_dict={}\n",
    "    tmp_example_dict={}\n",
    "    dataset_names_year = []\n",
    "    gp_ggf_year = \"gp_ggf_\" + years[year]\n",
    "    gp_ggf_year = []\n",
    "    \n",
    "\n",
    "    #gp_ggf_year = \"gp_ggf_\" + years[year]\n",
    "    dataset_names_year = []\n",
    "    gp_ggf_year = []\n",
    "\n",
    "    for massX in mass_point:\n",
    "        d = {\"massX\": massX}\n",
    "        tmp_example_dict = t_example1\n",
    "        gp_ggf_year.append(t_gp_year.format_map(d))\n",
    "        dataset_names_year.append(t_datasetname_year.format_map(d))\n",
    "        tmp_dataset_dict = dataset_names_year\n",
    "        tmp_gridpack_dict = gp_ggf_year\n",
    "        \n",
    "    gridpacks_dict[years[year]] = tmp_gridpack_dict\n",
    "    dataset_names[years[year]] = tmp_dataset_dict\n",
    "    example_dict[years[year]] = tmp_example_dict"
   ]
  },
  {
   "cell_type": "markdown",
   "metadata": {},
   "source": [
    "## .csv Production"
   ]
  },
  {
   "cell_type": "code",
   "execution_count": null,
   "metadata": {},
   "outputs": [],
   "source": [
    "#MadgraphVersion = re.compile(\"V5_2\\.[0-9]\\.[0-9]\")\n",
    "process_pythia_map = {}\n",
    "#tmp_process_pythia_map = {}\n",
    "#for process in processes:\n",
    "process_pythia_map = fragmentsDictCreator()\n",
    "#process_pythia_map.update(tmp_process_pythia_map)"
   ]
  },
  {
   "cell_type": "code",
   "execution_count": null,
   "metadata": {},
   "outputs": [],
   "source": [
    "#for year in range(len(years)):\n",
    "for year in gridpacks_dict:\n",
    "    #print(year)\n",
    "    with open('X53tW'+'_'+year+'_additional.csv', 'w') as csvfile:\n",
    "        csvwriter = csv.writer(csvfile, delimiter=',',\n",
    "                        quotechar='\"', quoting=csv.QUOTE_MINIMAL)\n",
    "        csvwriter.writerow(['Dataset name','Events', 'fragment','notes','Generator','mcdbid','time','size'])\n",
    "        #if year == \"2016\":\n",
    "        #    pr = 5706\n",
    "        #if year == \"2016APV\":\n",
    "        #    pr = 5730\n",
    "        #if year == \"2017\":\n",
    "        #    pr = 5160\n",
    "        #if year == \"2018\":\n",
    "         #   pr = 5489\n",
    "            \n",
    "        k=0\n",
    "        for i in range(len(mass_point)):\n",
    "            tmp_fragment=\"\"\n",
    "            #print(gridpacks_dict[year][i])\n",
    "            #print(dataset_names[year][i])\n",
    "            #version = MadgraphVersion.search(path).group(0)\n",
    "            version=\"2.6.5\"\n",
    "            dataset_name = dataset_names[year][k]\n",
    "            if year == \"2016APV\":\n",
    "                events = round(tot_events[i]*0.54)\n",
    "                #prepid = 'B2G-RunIISummer20UL16wmLHEGENAPV-0' + str(pr)\n",
    "            elif year == \"2016\":\n",
    "                events = round(tot_events[i]*0.46)\n",
    "                #prepid = 'B2G-RunIISummer20UL16wmLHEGEN-0' + str(pr)\n",
    "            elif year == \"2017\":\n",
    "                events = round(tot_events[i])\n",
    "                #prepid = 'B2G-RunIISummer20UL17wmLHEGEN-0' + str(pr)\n",
    "            elif year == \"2018\":\n",
    "                events = round(tot_events[i])\n",
    "                #prepid = 'B2G-RunIISummer20UL18wmLHEGEN-0' + str(pr)\n",
    "                    \n",
    "            tmp_fragment = LHEproducer.replace('__GRIDPACK__',gridpacks_dict[year][k]) + '\\n' + process_pythia_map[year]\n",
    "            final_fragment = tmp_fragment.replace('__EXAMPLE__',example_dict[year])\n",
    "            note = dataset_name.replace('_',' ')\n",
    "            generators=\"Madgraph_\" + version + \"  Pythia8\"\n",
    "            mcdb_id = '0'\n",
    "            time = '2'\n",
    "            size = '133'\n",
    "            csvwriter.writerow([dataset_name, events, final_fragment, note, generators, mcdb_id, time, size])\n",
    "            k=k+1\n",
    "            #pr = pr+1"
   ]
  },
  {
   "cell_type": "code",
   "execution_count": null,
   "metadata": {},
   "outputs": [],
   "source": []
  }
 ],
 "metadata": {
  "kernelspec": {
   "display_name": "Python 3",
   "language": "python",
   "name": "python3"
  },
  "language_info": {
   "codemirror_mode": {
    "name": "ipython",
    "version": 3
   },
   "file_extension": ".py",
   "mimetype": "text/x-python",
   "name": "python",
   "nbconvert_exporter": "python",
   "pygments_lexer": "ipython3",
   "version": "3.11.7"
  }
 },
 "nbformat": 4,
 "nbformat_minor": 4
}
