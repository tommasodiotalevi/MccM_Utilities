{
 "cells": [
  {
   "cell_type": "code",
   "execution_count": null,
   "id": "6ee5074b",
   "metadata": {},
   "outputs": [],
   "source": [
    "import pandas as pd\n",
    "import numpy as np\n",
    "import requests\n",
    "import re\n",
    "import csv"
   ]
  },
  {
   "cell_type": "code",
   "execution_count": null,
   "id": "f9b5284b",
   "metadata": {},
   "outputs": [],
   "source": [
    "pythia_fragment_CP5 = \"\"\"\n",
    "import FWCore.ParameterSet.Config as cms\n",
    "\n",
    "from Configuration.Generator.Pythia8CommonSettings_cfi import *\n",
    "from Configuration.Generator.MCTunes2017.PythiaCP5Settings_cfi import *\n",
    "from Configuration.Generator.PSweightsPythia.PythiaPSweightsSettings_cfi import *\n",
    "\n",
    "generator = cms.EDFilter(\"Pythia8ConcurrentGeneratorFilter\",\n",
    "      comEnergy = cms.double(13000.0),\n",
    "      crossSection = cms.untracked.double(1.095e-3),\n",
    "      filterEfficiency = cms.untracked.double(1),\n",
    "      maxEventsToPrint = cms.untracked.int32(0),\n",
    "      pythiaHepMCVerbosity = cms.untracked.bool(False),\n",
    "      pythiaPylistVerbosity = cms.untracked.int32(1),\n",
    "      PythiaParameters = cms.PSet(\n",
    "        pythia8CommonSettingsBlock,\n",
    "        pythia8CP5SettingsBlock,\n",
    "        pythia8PSweightsSettingsBlock,\n",
    "        processParameters = cms.vstring(\n",
    "        __CHANNEL_DECAY_FRAGMENT__\n",
    "        ),\n",
    "        parameterSets = cms.vstring('pythia8CommonSettings',\n",
    "                                    'pythia8CP5Settings',\n",
    "                                    'pythia8PSweightsSettings',\n",
    "                                    'processParameters',\n",
    "                                    )\n",
    "      )\n",
    ")\n",
    "\n",
    "ProductionFilterSequence = cms.Sequence(generator)\n",
    "\n",
    "\"\"\""
   ]
  },
  {
   "cell_type": "code",
   "execution_count": null,
   "id": "95c06e83",
   "metadata": {},
   "outputs": [],
   "source": [
    "def fragmentsDictCreator(decay_fr):\n",
    "    dict = { '2016': pythia_fragment_CP5.replace('__CHANNEL_DECAY_FRAGMENT__',decay_fr),\n",
    "             '2016APV': pythia_fragment_CP5.replace('__CHANNEL_DECAY_FRAGMENT__',decay_fr),\n",
    "             '2017': pythia_fragment_CP5.replace('__CHANNEL_DECAY_FRAGMENT__',decay_fr),\n",
    "             '2018': pythia_fragment_CP5.replace('__CHANNEL_DECAY_FRAGMENT__',decay_fr)\n",
    "                    }\n",
    "    return dict"
   ]
  },
  {
   "cell_type": "code",
   "execution_count": null,
   "id": "b2e33a1b",
   "metadata": {},
   "outputs": [],
   "source": [
    "years = [\"2016\", \"2016APV\", \"2017\", \"2018\"]\n",
    "mX = [700, 800, 900, 1000, 1200, 1400, 1600, 1800, 2000, 2200, 2400, 2600, 3000, 3500]\n",
    "widths = [\"0p014\", \"5p6\", \"10p0\"]\n",
    "widths_num = [0.00014, 0.056, 0.1]\n",
    "tot_events = [900000, 600000, 450000, 420000, 390000, 360000, 360000, 360000, 360000, 360000, 360000, 360000, 360000, 360000]\n",
    "dataset_names = {}"
   ]
  },
  {
   "cell_type": "code",
   "execution_count": null,
   "id": "0e4daf31",
   "metadata": {},
   "outputs": [],
   "source": [
    "for year in range(len(years)):\n",
    "    t_datasetname_year = 'GluGluSpin0ToZGToQQG_M-{mass}_Width{width}_TuneCP5_13TeV-pythia8'\n",
    "    tmp_dataset_dict={}\n",
    "    dataset_names_year = []\n",
    "    gp_ggf_year = \"gp_ggf_\" + years[year]\n",
    "    gp_ggf_year = []\n",
    "    \n",
    "    dataset_names_year = []\n",
    "    gp_ggf_year = []\n",
    "\n",
    "    for mx in mX:\n",
    "        for width in widths:\n",
    "            d = {\"mass\": str(mx), \"width\": width}\n",
    "            dataset_names_year.append(t_datasetname_year.format_map(d))\n",
    "            tmp_dataset_dict = dataset_names_year\n",
    "        \n",
    "    dataset_names[years[year]] = tmp_dataset_dict"
   ]
  },
  {
   "cell_type": "code",
   "execution_count": null,
   "id": "0ca546f5-356b-47ff-94d7-fc2341d80b48",
   "metadata": {},
   "outputs": [],
   "source": [
    "z_gamma = '''                                                                                                                                                                                           \n",
    "    'HiggsSM:gg2H = on',\n",
    "    '25:m0 = __X_MASS__',\n",
    "    '25:mWidth = __X_WIDTH__',\n",
    "    '25:onMode = off',\n",
    "    '25:OnIfMatch = 23 22',\n",
    "    '25:doForceWidth = on',\n",
    "    'Higgs:clipWings = off',\n",
    "    \n",
    "    '23:onMode = off',\n",
    "    '23:OnIfMatch = 1 1',\n",
    "    '23:OnIfMatch = 2 2',\n",
    "    '23:OnIfMatch = 3 3',\n",
    "    '23:OnIfMatch = 4 4',\n",
    "    '23:OnIfMatch = 5 5',\n",
    "'''"
   ]
  },
  {
   "cell_type": "markdown",
   "id": "5a92eab4",
   "metadata": {},
   "source": [
    "## .csv Production"
   ]
  },
  {
   "cell_type": "code",
   "execution_count": null,
   "id": "18c28650",
   "metadata": {},
   "outputs": [],
   "source": [
    "#MadgraphVersion = re.compile(\"V5_2\\.[0-9]\\.[0-9]\")\n",
    "process_pythia_map = {}\n",
    "tmp_process_pythia_map = {}\n",
    "tmp_process_pythia_map = fragmentsDictCreator(z_gamma)\n",
    "process_pythia_map.update(tmp_process_pythia_map)"
   ]
  },
  {
   "cell_type": "code",
   "execution_count": null,
   "id": "c65db4d3",
   "metadata": {},
   "outputs": [],
   "source": [
    "#for year in range(len(years)):\n",
    "for year in years:\n",
    "    #print(year)\n",
    "    with open('Zgamma' + '_' + year +'.csv', 'w') as csvfile:\n",
    "        csvwriter = csv.writer(csvfile, delimiter=',',\n",
    "                        quotechar='\"', quoting=csv.QUOTE_MINIMAL)\n",
    "        csvwriter.writerow(['Dataset name','Events', 'fragment','notes','Generator','mcdbid','time','size'])\n",
    "        '''if year == \"2016\":\n",
    "            pr = 5208\n",
    "        if year == \"2016APV\":\n",
    "            pr = 5224\n",
    "        if year == \"2017\":\n",
    "            pr = 4824\n",
    "        if year == \"2018\":\n",
    "            pr = 5152'''\n",
    "            \n",
    "        k=0\n",
    "        for i in range(len(mX)):\n",
    "            for j in range(len(widths)):\n",
    "                tmp_fragment=\"\"\n",
    "                #print(gridpacks_dict[year][i])\n",
    "                #print(dataset_names[year][i])\n",
    "                #version = MadgraphVersion.search(path).group(0)\n",
    "                version=\"2.6.5\"\n",
    "                dataset_name = dataset_names[year][k]\n",
    "                if year == \"2016APV\":\n",
    "                    events = round(tot_events[i]*0.54)\n",
    "                    #prepid = 'B2G-RunIISummer20UL16wmLHEGENAPV-0' + str(pr)\n",
    "                elif year == \"2016\":\n",
    "                    events = round(tot_events[i]*0.46)\n",
    "                    #prepid = 'B2G-RunIISummer20UL16wmLHEGEN-0' + str(pr)\n",
    "                elif year == \"2017\":\n",
    "                    events = tot_events[i]\n",
    "                    #prepid = 'B2G-RunIISummer20UL17wmLHEGEN-0' + str(pr)\n",
    "                elif year == \"2018\":\n",
    "                    events = tot_events[i]\n",
    "                    #prepid = 'B2G-RunIISummer20UL18wmLHEGEN-0' + str(pr)\n",
    "                \n",
    "                tmp_fragment = process_pythia_map[year]\n",
    "                final_fragment = tmp_fragment.replace('__X_MASS__', str(float(mX[i])))\n",
    "                final_fragment = final_fragment.replace('__X_WIDTH__', \"{:.3f}\".format(mX[i]*widths_num[j]))\n",
    "                note = dataset_name.replace('_',' ')\n",
    "                #generators=\"Madgraph_\" + version + \" Pythia8\"\n",
    "                generators=\"Pythia8\"\n",
    "                mcdb_id = '0'\n",
    "                time = '0.01'\n",
    "                size = '30'\n",
    "                csvwriter.writerow([dataset_name, events, final_fragment, note, generators, mcdb_id, time, size])\n",
    "                #pr = pr+1   \n",
    "                k=k+1"
   ]
  },
  {
   "cell_type": "code",
   "execution_count": null,
   "id": "bc63ebe3",
   "metadata": {},
   "outputs": [],
   "source": []
  }
 ],
 "metadata": {
  "kernelspec": {
   "display_name": "Python 3",
   "language": "python",
   "name": "python3"
  },
  "language_info": {
   "codemirror_mode": {
    "name": "ipython",
    "version": 3
   },
   "file_extension": ".py",
   "mimetype": "text/x-python",
   "name": "python",
   "nbconvert_exporter": "python",
   "pygments_lexer": "ipython3",
   "version": "3.11.9"
  }
 },
 "nbformat": 4,
 "nbformat_minor": 5
}
