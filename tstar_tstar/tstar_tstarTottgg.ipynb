{
 "cells": [
  {
   "cell_type": "code",
   "execution_count": null,
   "id": "6ee5074b",
   "metadata": {},
   "outputs": [],
   "source": [
    "import pandas as pd\n",
    "import numpy as np\n",
    "import requests\n",
    "import re\n",
    "import csv"
   ]
  },
  {
   "cell_type": "code",
   "execution_count": null,
   "id": "f9b5284b",
   "metadata": {},
   "outputs": [],
   "source": [
    "pythia_fragment_CP5 = \"\"\"\n",
    "from Configuration.Generator.Pythia8CommonSettings_cfi import *\n",
    "from Configuration.Generator.MCTunes2017.PythiaCP5Settings_cfi import *\n",
    "from Configuration.Generator.PSweightsPythia.PythiaPSweightsSettings_cfi import *\n",
    "\n",
    "generator = cms.EDFilter(\"Pythia8ConcurrentHadronizerFilter\",\n",
    "                         maxEventsToPrint = cms.untracked.int32(1),\n",
    "                         pythiaPylistVerbosity = cms.untracked.int32(1),\n",
    "                         filterEfficiency = cms.untracked.double(1.0),\n",
    "                         pythiaHepMCVerbosity = cms.untracked.bool(False),\n",
    "                         comEnergy = cms.double(13000.),\n",
    "                         PythiaParameters = cms.PSet(\n",
    "                                                     pythia8CommonSettingsBlock,\n",
    "                                                     pythia8CP5SettingsBlock,\n",
    "                                                     pythia8PSweightsSettingsBlock,\n",
    "                                                     parameterSets = cms.vstring('pythia8CommonSettings',\n",
    "                                                                                 'pythia8CP5Settings',\n",
    "                                                                                 'pythia8PSweightsSettings',\n",
    "                                                                                 )\n",
    "                                                     )\n",
    "                         )\n",
    "\n",
    "\n",
    "ProductionFilterSequence = cms.Sequence(generator)\n",
    "\"\"\""
   ]
  },
  {
   "cell_type": "code",
   "execution_count": null,
   "id": "95c06e83",
   "metadata": {},
   "outputs": [],
   "source": [
    "def fragmentsDictCreator():\n",
    "    dict = { '2016': pythia_fragment_CP5,\n",
    "             '2016APV': pythia_fragment_CP5,\n",
    "             '2017': pythia_fragment_CP5,\n",
    "             '2018': pythia_fragment_CP5\n",
    "                    }\n",
    "    return dict"
   ]
  },
  {
   "cell_type": "code",
   "execution_count": null,
   "id": "7d3e89b3",
   "metadata": {},
   "outputs": [],
   "source": [
    "LHEproducer = \"\"\"\n",
    "import FWCore.ParameterSet.Config as cms\n",
    "\n",
    "# link to cards:\n",
    "# __EXAMPLE__\n",
    "\n",
    "externalLHEProducer = cms.EDProducer('ExternalLHEProducer',\n",
    "    args = cms.vstring('__GRIDPACK__'),\n",
    "    nEvents = cms.untracked.uint32(5000),\n",
    "    numberOfParameters = cms.uint32(1),\n",
    "    outputFile = cms.string('cmsgrid_final.lhe'),\n",
    "    generateConcurrently = cms.untracked.bool(True),\n",
    "    scriptName = cms.FileInPath('GeneratorInterface/LHEInterface/data/run_generic_tarball_cvmfs.sh')\n",
    ")\n",
    "\"\"\""
   ]
  },
  {
   "cell_type": "code",
   "execution_count": null,
   "id": "b2e33a1b",
   "metadata": {},
   "outputs": [],
   "source": [
    "years = [\"2016\", \"2016APV\", \"2017\", \"2018\"]\n",
    "mX = [\"700\",\"800\",\"900\",\"1000\",\"1100\",\"1200\",\"1300\",\"1400\",\"1500\",\"1600\",\"1700\",\"1800\",\"1900\",\"2000\",\"2250\",\"2500\",\"2750\",\"3000\"]\n",
    "\n",
    "tot_events1 = [200000]*9 + [300000]*4 + [400000]*5\n",
    "gridpacks_dict = {}\n",
    "example_dict = {}\n",
    "dataset_names = {}"
   ]
  },
  {
   "cell_type": "code",
   "execution_count": null,
   "id": "0e4daf31",
   "metadata": {},
   "outputs": [],
   "source": [
    "for year in range(len(years)):\n",
    "    t_example1 = 'https://github.com/cms-sw/genproductions/blob/master/bin/MadGraph5_aMCatNLO/cards/production/13TeV/TpTp_GluonPhotonDecays_Spin32/pairProduction_ttggChannel.py'\n",
    "    t_datasetname_year = 'TstarTstarToTgluonTgluon_M-{massX}_TuneCP5_Spin32_13TeV-madgraph-pythia8'\n",
    "    t_gp_year = \"/cvmfs/cms.cern.ch/phys_generator/gridpacks/UL/13TeV/madgraph/V5_2.6.5/TpTp_production/ttgg/TpTp_M{massX}_ttgg_channel_slc7_amd64_gcc700_CMSSW_10_6_19_tarball.tar.xz\"    \n",
    "    tmp_dataset_dict={}\n",
    "    tmp_gridpack_dict={}\n",
    "    tmp_example_dict={}\n",
    "    dataset_names_year = []\n",
    "    gp_ggf_year = \"gp_ggf_\" + years[year]\n",
    "    gp_ggf_year = []\n",
    "    \n",
    "    dataset_names_year = []\n",
    "    gp_ggf_year = []\n",
    "\n",
    "    for mx in mX:\n",
    "        d = {\"massX\": mx}\n",
    "        tmp_example_dict = t_example1\n",
    "        gp_ggf_year.append(t_gp_year.format_map(d))\n",
    "        dataset_names_year.append(t_datasetname_year.format_map(d))\n",
    "        tmp_dataset_dict = dataset_names_year\n",
    "        tmp_gridpack_dict = gp_ggf_year\n",
    "        \n",
    "    gridpacks_dict[years[year]] = tmp_gridpack_dict\n",
    "    dataset_names[years[year]] = tmp_dataset_dict\n",
    "    example_dict[years[year]] = tmp_example_dict"
   ]
  },
  {
   "cell_type": "markdown",
   "id": "5a92eab4",
   "metadata": {},
   "source": [
    "## .csv Production"
   ]
  },
  {
   "cell_type": "code",
   "execution_count": null,
   "id": "18c28650",
   "metadata": {},
   "outputs": [],
   "source": [
    "#MadgraphVersion = re.compile(\"V5_2\\.[0-9]\\.[0-9]\")\n",
    "process_pythia_map = {}\n",
    "tmp_process_pythia_map = {}\n",
    "tmp_process_pythia_map = fragmentsDictCreator()\n",
    "process_pythia_map.update(tmp_process_pythia_map)"
   ]
  },
  {
   "cell_type": "code",
   "execution_count": null,
   "id": "c65db4d3",
   "metadata": {},
   "outputs": [],
   "source": [
    "#for year in range(len(years)):\n",
    "for year in gridpacks_dict:\n",
    "    #print(year)\n",
    "    with open('tstar_tstarTottgg' + '_' + year +'_modify.csv', 'w') as csvfile:\n",
    "        csvwriter = csv.writer(csvfile, delimiter=',',\n",
    "                        quotechar='\"', quoting=csv.QUOTE_MINIMAL)\n",
    "        csvwriter.writerow(['prepid','Dataset name','Events', 'fragment','notes','Generator','mcdbid','time','size'])\n",
    "        if year == \"2016\":\n",
    "            pr = 4861\n",
    "        if year == \"2016APV\":\n",
    "            pr = 4712\n",
    "        if year == \"2017\":\n",
    "            pr = 4479\n",
    "        if year == \"2018\":\n",
    "            pr = 4651\n",
    "        k=0\n",
    "        for i in range(len(mX)):\n",
    "            tmp_fragment=\"\"\n",
    "            #print(gridpacks_dict[year][i])\n",
    "            #print(dataset_names[year][i])\n",
    "            #version = MadgraphVersion.search(path).group(0)\n",
    "            version=\"2.6.5\"\n",
    "            dataset_name = dataset_names[year][k]\n",
    "            if year == \"2016APV\":\n",
    "                events = round(tot_events1[i]*0.54)\n",
    "                prepid = 'B2G-RunIISummer20UL16wmLHEGENAPV-0' + str(pr)\n",
    "            elif year == \"2016\":\n",
    "                events = round(tot_events1[i]*0.46)\n",
    "                prepid = 'B2G-RunIISummer20UL16wmLHEGEN-0' + str(pr)\n",
    "            elif year == \"2017\":\n",
    "                events = tot_events1[i]\n",
    "                prepid = 'B2G-RunIISummer20UL17wmLHEGEN-0' + str(pr)\n",
    "            elif year == \"2018\":\n",
    "                events = tot_events1[i]\n",
    "                prepid = 'B2G-RunIISummer20UL18wmLHEGEN-0' + str(pr)\n",
    "                \n",
    "            tmp_fragment = LHEproducer.replace('__GRIDPACK__',gridpacks_dict[year][k]) + '\\n' + process_pythia_map[year]\n",
    "            final_fragment = tmp_fragment.replace('__EXAMPLE__',example_dict[year])\n",
    "            note = dataset_name.replace('_',' ')\n",
    "            generators=\"Madgraph_\" + version + \"  Pythia8\"\n",
    "            mcdb_id = '0'\n",
    "            time = '0.01'\n",
    "            size = '30'\n",
    "            csvwriter.writerow([prepid, dataset_name, events, final_fragment, note, generators, mcdb_id, time, size])\n",
    "            pr = pr+1   \n",
    "            k=k+1"
   ]
  },
  {
   "cell_type": "code",
   "execution_count": null,
   "id": "bc63ebe3",
   "metadata": {},
   "outputs": [],
   "source": []
  }
 ],
 "metadata": {
  "kernelspec": {
   "display_name": "Python 3",
   "language": "python",
   "name": "python3"
  },
  "language_info": {
   "codemirror_mode": {
    "name": "ipython",
    "version": 3
   },
   "file_extension": ".py",
   "mimetype": "text/x-python",
   "name": "python",
   "nbconvert_exporter": "python",
   "pygments_lexer": "ipython3",
   "version": "3.8.16"
  }
 },
 "nbformat": 4,
 "nbformat_minor": 5
}
